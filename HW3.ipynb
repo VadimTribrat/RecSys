{
 "cells": [
  {
   "cell_type": "markdown",
   "metadata": {},
   "source": [
    "\n",
    "## Гибридные рекомендательные системы с Surprise: взвешенный подход\n",
    "\n",
    "Дедлайн 1: 18 октября. Дедлайн 2 (максимальная оценка - 1 балл) 25 октября\n",
    "\n",
    "### Мы используем Suprise (пакет sci-kit для рекомендательных систем), чтобы гарантировать, что рекомендательные системы, которые мы используем, оптимизированы, чтобы когда мы объединили их - не беспокоились о недостатках, возникающих в отдельной реализации. "
   ]
  },
  {
   "cell_type": "code",
   "execution_count": 1,
   "metadata": {
    "_cell_guid": "b1076dfc-b9ad-4769-8c92-a6c4dae69d19",
    "_uuid": "8f2839f25d086af736a60e9eeb907d3b93b6e0e5"
   },
   "outputs": [],
   "source": [
    "import surprise\n",
    "import numpy as np \n",
    "import pandas as pd \n",
    "from sklearn.model_selection import train_test_split\n",
    "import os\n",
    "path = \"/\"\n",
    "#print(os.listdir(path))"
   ]
  },
  {
   "cell_type": "markdown",
   "metadata": {},
   "source": [
    "Во-первых, давайте прочитаем и очистим набор данных, чтобы мы знали, с чем работаем.\n",
    "1. Считайте pandas датафрейм ratings.csv\n",
    "2. Удалите дублированные строки\n",
    "3. Сколько уникальных книг и пользователей в датасете?\n",
    "4. В каком интервале рейтинг?"
   ]
  },
  {
   "cell_type": "markdown",
   "metadata": {},
   "source": [
    "Всякий раз, когда вы загружаете набор данных в Surprise, вы можете использовать их класс Reader набора данных, который облегчает большую часть проблем. Вы можете указать множество форматов файлов, но для фреймов данных pandas, которые мы используем, вы можете указать некоторые параметры для рейтинга (rating_scale) и датафрейма."
   ]
  },
  {
   "cell_type": "code",
   "execution_count": 3,
   "metadata": {},
   "outputs": [
    {
     "name": "stdout",
     "output_type": "stream",
     "text": [
      "Unique books: 10000\n",
      "Interval: 1 : 5\n"
     ]
    }
   ],
   "source": [
    "df = pd.read_csv('ratings.csv')\n",
    "df = df.drop_duplicates()\n",
    "\n",
    "print(\"Unique books:\", df.book_id.unique().shape[0])\n",
    "print(\"Interval:\", df.rating.min(), \":\", df.rating.max())\n",
    "df = df.iloc[:-500000]\n",
    "\n",
    "df.rating = df.rating.astype('int8')\n",
    "# print(df.head(), df.shape)\n",
    "\n",
    "#порядок колонок должен быть таким\n",
    "df=df[['user_id','book_id','rating']] \n",
    "df.columns = ['n_users','n_items','rating']\n",
    "\n",
    "# укажем scale для рейтинга\n",
    "reader = surprise.Reader(rating_scale=(1,5)) \n",
    "\n",
    "# разделите на основную и отложенную выборки в соотножении 3:1\n",
    "# и загрузите в surprise dataset:\n",
    "#  -- TODO -- \n",
    "\n",
    "#holdout = surprise.Dataset.load_from_df(df.iloc[-500000:], reader)\n",
    "train, test = train_test_split(df, test_size=0.3)\n",
    "train = surprise.Dataset.load_from_df(train, reader)\n",
    "test = surprise.Dataset.load_from_df(test, reader)"
   ]
  },
  {
   "cell_type": "markdown",
   "metadata": {},
   "source": [
    "\n",
    "### Во-первых, выберем несколько алгоритмов для включения в наш ансамбль. Это будут\n",
    "1. KNN совместная фильтрация \n",
    "2. Матричная факторизация\n",
    "3. Совместная фильтрация с кластеризацией\n",
    "4. Совместная фильтрация на основе алгоритма Slope One. (http://wiki-org.ru/wiki/Slope_One)"
   ]
  },
  {
   "cell_type": "markdown",
   "metadata": {},
   "source": [
    "## KNN колаборативная фильтрация:"
   ]
  },
  {
   "cell_type": "code",
   "execution_count": 4,
   "metadata": {},
   "outputs": [],
   "source": [
    "kSplit = surprise.model_selection.split.KFold(n_splits=10, shuffle=True) # разбиваем данные на фолды\n"
   ]
  },
  {
   "cell_type": "markdown",
   "metadata": {},
   "source": [
    "Задайте параметр sim_options на основании косинусной меры, и с подходом user-based ('user_based': False)"
   ]
  },
  {
   "cell_type": "code",
   "execution_count": 5,
   "metadata": {},
   "outputs": [],
   "source": [
    "sim_options = {\n",
    "    'name': 'cosine',\n",
    "    'user_based': False\n",
    "    }\n",
    "collabKNN = surprise.KNNBasic(k=10, **sim_options)"
   ]
  },
  {
   "cell_type": "markdown",
   "metadata": {},
   "source": [
    "Обучите модель, предскажите значение на test выборке и запишите значение метрики на каждом фолде"
   ]
  },
  {
   "cell_type": "code",
   "execution_count": 6,
   "metadata": {},
   "outputs": [
    {
     "name": "stdout",
     "output_type": "stream",
     "text": [
      "Computing the msd similarity matrix...\n",
      "Done computing similarity matrix.\n",
      "RMSE: 0.9294\n",
      "Computing the msd similarity matrix...\n",
      "Done computing similarity matrix.\n",
      "RMSE: 0.9313\n",
      "Computing the msd similarity matrix...\n",
      "Done computing similarity matrix.\n",
      "RMSE: 0.9318\n",
      "Computing the msd similarity matrix...\n",
      "Done computing similarity matrix.\n",
      "RMSE: 0.9293\n",
      "Computing the msd similarity matrix...\n",
      "Done computing similarity matrix.\n",
      "RMSE: 0.9263\n",
      "Computing the msd similarity matrix...\n",
      "Done computing similarity matrix.\n",
      "RMSE: 0.9304\n",
      "Computing the msd similarity matrix...\n",
      "Done computing similarity matrix.\n",
      "RMSE: 0.9324\n",
      "Computing the msd similarity matrix...\n",
      "Done computing similarity matrix.\n",
      "RMSE: 0.9398\n",
      "Computing the msd similarity matrix...\n",
      "Done computing similarity matrix.\n",
      "RMSE: 0.9252\n",
      "Computing the msd similarity matrix...\n",
      "Done computing similarity matrix.\n",
      "RMSE: 0.9279\n"
     ]
    }
   ],
   "source": [
    "rmseKNN = []\n",
    "for trainset, testset in kSplit.split(train): #проходимся по фолдам\n",
    "    model = collabKNN.fit(trainset)\n",
    "    preds = model.test(testset)\n",
    "    rmseKNN.append(surprise.accuracy.rmse(preds))"
   ]
  },
  {
   "cell_type": "markdown",
   "metadata": {},
   "source": [
    "### Вы можете пробовать разные гиперпараметры, используя Suprise Grid Search CV, чтобы найти наилучшие возможные гиперпараметры."
   ]
  },
  {
   "cell_type": "markdown",
   "metadata": {},
   "source": [
    "\n",
    "### Обучим наш алгоритм матричной факторизации с 30 скрытыми факторами (n_factors=30)\n"
   ]
  },
  {
   "cell_type": "code",
   "execution_count": 7,
   "metadata": {},
   "outputs": [],
   "source": [
    "funkSVD = surprise.prediction_algorithms.matrix_factorization.SVD(n_factors=30,n_epochs=10,biased=True)"
   ]
  },
  {
   "cell_type": "markdown",
   "metadata": {},
   "source": [
    "Обучите модель, предскажите значение на test выборке и запишите значение метрики на каждом фолде"
   ]
  },
  {
   "cell_type": "code",
   "execution_count": 9,
   "metadata": {},
   "outputs": [
    {
     "name": "stdout",
     "output_type": "stream",
     "text": [
      "RMSE: 0.8664\n",
      "RMSE: 0.8667\n",
      "RMSE: 0.8612\n",
      "RMSE: 0.8669\n",
      "RMSE: 0.8632\n",
      "RMSE: 0.8663\n",
      "RMSE: 0.8667\n",
      "RMSE: 0.8672\n",
      "RMSE: 0.8665\n",
      "RMSE: 0.8633\n"
     ]
    }
   ],
   "source": [
    "rmseSVD = []\n",
    "for trainset, testset in kSplit.split(train): #проходимся по фолдам\n",
    "    preds = funkSVD.fit(trainset).test(testset)\n",
    "    rmseSVD.append(surprise.accuracy.rmse(preds))"
   ]
  },
  {
   "cell_type": "markdown",
   "metadata": {},
   "source": [
    "## Колаборативная фильтрация с кластеризацией"
   ]
  },
  {
   "cell_type": "markdown",
   "metadata": {},
   "source": [
    "\n",
    "Теперь используем совместную фильтрацию с кластеризацией.\n",
    "Совместная кластеризация - это объединение пользователей и элементов в кластеры с использованием методов кластеризации. Выделите три кластера. Чтобы получить прогнозируемый рейтинг, вам нужно будет суммировать три вещи:\n",
    "     1. Вы находите кластер для указанного рейтинга пользователя u и элемента i и определяете среднее значение этого кластера. Итак, вы найдете среднее значение кластера u_i.\n",
    "     2. Найдите среднее значение кластера элемента i и вычтите его из среднего рейтинга этого элемента.\n",
    "     3. Найдите среднее значение кластера пользователя u и вычтите его из среднего рейтинга этого пользователя.\n",
    "    \n",
    "Вы обнаружите, что для большинства из них RSME остается неизменным для всех K-фолдов."
   ]
  },
  {
   "cell_type": "markdown",
   "metadata": {},
   "source": [
    "Обучите модель, предскажите значение на test выборке и запишите значение метрики на каждом фолде"
   ]
  },
  {
   "cell_type": "code",
   "execution_count": 10,
   "metadata": {},
   "outputs": [
    {
     "name": "stdout",
     "output_type": "stream",
     "text": [
      "RMSE: 0.8946\n",
      "RMSE: 0.9002\n",
      "RMSE: 0.8956\n",
      "RMSE: 0.9023\n",
      "RMSE: 0.9049\n",
      "RMSE: 0.9005\n",
      "RMSE: 0.8950\n",
      "RMSE: 0.9000\n",
      "RMSE: 0.9008\n",
      "RMSE: 0.8927\n"
     ]
    }
   ],
   "source": [
    "coClus = surprise.prediction_algorithms.co_clustering.CoClustering(n_cltr_u=4,n_cltr_i=4,n_epochs=25) \n",
    "rmseCo = []\n",
    "for trainset, testset in kSplit.split(train): #проходимся по фолдам\n",
    "    preds = coClus.fit(trainset).test(testset)\n",
    "    rmseCo.append(surprise.accuracy.rmse(preds))"
   ]
  },
  {
   "cell_type": "markdown",
   "metadata": {},
   "source": [
    "## Slope One"
   ]
  },
  {
   "cell_type": "markdown",
   "metadata": {},
   "source": [
    "Обучая нашу последнюю модель, мы будем использовать алгоритм совместной фильтрации Slope One. Этот алгоритм вычисляет наклон (slope) каждого из релевантных элементов, оцененных пользователем, находит разницу, а затем вычисляет прогноз. Это грубый инструмент, но это хорошая эвристика, которая может улучшить наш метод ансамбля. Подробнее читайте здесь: https://arxiv.org/abs/cs/0702144."
   ]
  },
  {
   "cell_type": "markdown",
   "metadata": {},
   "source": [
    "Обучите модель, предскажите значение на test выборке и запишите значение метрики на каждом фолде"
   ]
  },
  {
   "cell_type": "code",
   "execution_count": 11,
   "metadata": {},
   "outputs": [],
   "source": [
    "slopeOne = surprise.prediction_algorithms.slope_one.SlopeOne()\n"
   ]
  },
  {
   "cell_type": "code",
   "execution_count": 12,
   "metadata": {},
   "outputs": [
    {
     "name": "stdout",
     "output_type": "stream",
     "text": [
      "RMSE: 0.9229\n",
      "RMSE: 0.9136\n",
      "RMSE: 0.9278\n",
      "RMSE: 0.9241\n",
      "RMSE: 0.9223\n",
      "RMSE: 0.9258\n",
      "RMSE: 0.9270\n",
      "RMSE: 0.9156\n",
      "RMSE: 0.9249\n",
      "RMSE: 0.9251\n"
     ]
    }
   ],
   "source": [
    "rmseSlope = []\n",
    "for trainset, testset in kSplit.split(train): \n",
    "    preds = slopeOne.fit(trainset).test(testset)\n",
    "    rmseSlope.append(surprise.accuracy.rmse(preds))"
   ]
  },
  {
   "cell_type": "markdown",
   "metadata": {},
   "source": [
    "Теперь у нас есть четыре рекомендательные системы, из которых мы хотим сделать ансамбль. Сначала давайте построим график каждого из них, чтобы увидеть, как они работают.\n",
    "\n",
    "Затем реализуем описанный алгоритм Ensemble для гибридного подхода."
   ]
  },
  {
   "cell_type": "code",
   "execution_count": 13,
   "metadata": {},
   "outputs": [
    {
     "data": {
      "text/plain": [
       "<matplotlib.legend.Legend at 0x2e269868430>"
      ]
     },
     "execution_count": 13,
     "metadata": {},
     "output_type": "execute_result"
    },
    {
     "data": {
      "image/png": "[encoded data removed]",
      "text/plain": [
       "<Figure size 640x480 with 1 Axes>"
      ]
     },
     "metadata": {},
     "output_type": "display_data"
    }
   ],
   "source": [
    "#Отобразим предсказания:\n",
    "import matplotlib.pyplot as plt\n",
    "modelPrediction = plt.plot(rmseKNN,label='knn')\n",
    "modelPrediction = plt.plot(rmseSVD,label='svd')\n",
    "modelPrediction = plt.plot(rmseCo,label='cluster')\n",
    "modelPrediction = plt.plot(rmseSlope,label='slope')\n",
    "\n",
    "modelPrediction = plt.xlabel('folds')\n",
    "modelPrediction = plt.ylabel('rmse')\n",
    "plt.legend(bbox_to_anchor=(1.05, 1), loc=2, borderaxespad=0.)"
   ]
  },
  {
   "cell_type": "markdown",
   "metadata": {},
   "source": [
    "Похоже, что svd превосходит остальные. Попробуем гибридизировать модели, чтобы получить лучшие части каждой модели. Для этого мы собираемся использовать Suprise, чтобы создать новый алгоритм, и сделать так, чтобы он превосходил остальные."
   ]
  },
  {
   "cell_type": "markdown",
   "metadata": {},
   "source": [
    "\n",
    "# На псевдокоде наш алгоритм выглядит следующим образом:\n",
    "1. Мы запускаем несколько рекомендательных систем для набора данных.\n",
    "2. Инициализируем взвешенную переменную alpha равную 1 / q, где q - количество используемых нами рекомендательных систем.\n",
    "3. Итоговый рейтинг будем считать как сумму взвещаных прогнозируемых рейтингов.\n",
    "4. Используя градиентный спуск, оптимизируем альфа-член по пространству параметров, чтобы иметь возможность придать наибольший вес модели, которая может представлять лучший прогноз."
   ]
  },
  {
   "cell_type": "markdown",
   "metadata": {},
   "source": [
    "Теперь создадим класс в Surprise и унаследуем его от Algobase."
   ]
  },
  {
   "cell_type": "code",
   "execution_count": 14,
   "metadata": {},
   "outputs": [],
   "source": [
    "class HybridFacto(surprise.AlgoBase):\n",
    "    def __init__(self,epochs, learning_rate,q,estimators):\n",
    "        self.alpha = np.array([1/q]*q)\n",
    "        self.epochs = epochs\n",
    "        self.learning_rate = learning_rate\n",
    "        self.collabKNN = estimators[0]\n",
    "        self.funkSVD = estimators[1]\n",
    "        self.coClus = estimators[2]\n",
    "        self.slopeOne = estimators[3]\n",
    "    \n",
    "    def fit(self, train_set):\n",
    "        holdout=train_set.build_full_trainset().build_testset()\n",
    "        predictions = []\n",
    "        predictions.append(self.collabKNN.test(holdout))\n",
    "        predictions.append(self.funkSVD.test(holdout))\n",
    "        predictions.append(self.coClus.test(holdout))\n",
    "        predictions.append(self.slopeOne.test(holdout))\n",
    "        for epoch in range(self.epochs):\n",
    "            maeGradient = np.array([surprise.accuracy.mae(prediction) for prediction in predictions])\n",
    "            newalpha =  self.alpha - maeGradient * self.learning_rate\n",
    "            #проверка сходимости:\n",
    "            if (newalpha - self.alpha).max() < 0.001:\n",
    "                break\n",
    "            self.alpha = newalpha\n",
    "            \n",
    "    def estimate(self,testset):\n",
    "        algoResults=[np.array([i.est for i in collabKNN.test(testset)]),\n",
    "                     np.array([i.est for i in funkSVD.test(testset)]),\n",
    "                     np.array([i.est for i in coClus.test(testset)]),\n",
    "                     np.array([i.est for i in slopeOne.test(testset)])]\n",
    "        return self.alpha @ algoResults\n",
    "        "
   ]
  },
  {
   "cell_type": "markdown",
   "metadata": {},
   "source": [
    "давайте проверим его:\n",
    "1. Инициализруйте Гибридную модель с 10 эпохами, learning_rate = 0.05, по 4 имеющимся моделям и обучите на holdout выборке\n",
    "2. Посчитайте root mean squared error с использованием метрики из sklearn для получившегося результата\n",
    "3. Отобразите на графике результаты метрики, полученые от одиночных моделей на предыдущих шагах вместе с результатом гибридной модели. Оцените результат"
   ]
  },
  {
   "cell_type": "code",
   "execution_count": 48,
   "metadata": {},
   "outputs": [
    {
     "name": "stdout",
     "output_type": "stream",
     "text": [
      "MAE:  0.7175\n",
      "MAE:  0.6808\n",
      "MAE:  0.6909\n",
      "MAE:  0.7076\n"
     ]
    }
   ],
   "source": [
    "estimators = [collabKNN, funkSVD, coClus, slopeOne]\n",
    "hybrid = HybridFacto(epochs=10, learning_rate=0.05, q=4, estimators=estimators)\n",
    "hybrid.fit(test)"
   ]
  },
  {
   "cell_type": "code",
   "execution_count": 49,
   "metadata": {},
   "outputs": [],
   "source": [
    "from sklearn.metrics import mean_squared_error\n",
    "from math import sqrt\n",
    "\n",
    "rmseHyb = []\n",
    "for trainset, testset in kSplit.split(test):\n",
    "    preds = hybrid.estimate(testset)\n",
    "    rmse_hyb = mean_squared_error([i[2] for i in testset], pred)\n",
    "    rmseHyb.append(rmse_hyb)"
   ]
  },
  {
   "cell_type": "code",
   "execution_count": null,
   "metadata": {},
   "outputs": [],
   "source": []
  },
  {
   "cell_type": "code",
   "execution_count": 50,
   "metadata": {},
   "outputs": [
    {
     "data": {
      "text/plain": [
       "<matplotlib.legend.Legend at 0x2e27f335210>"
      ]
     },
     "execution_count": 50,
     "metadata": {},
     "output_type": "execute_result"
    },
    {
     "data": {
      "image/png": "[encoded data removed]",
      "text/plain": [
       "<Figure size 640x480 with 1 Axes>"
      ]
     },
     "metadata": {},
     "output_type": "display_data"
    }
   ],
   "source": [
    "import matplotlib.pyplot as plt\n",
    "modelPrediction = plt.plot(rmseKNN,label='knn')\n",
    "modelPrediction = plt.plot(rmseSVD,label='svd')\n",
    "modelPrediction = plt.plot(rmseCo,label='cluster')\n",
    "modelPrediction = plt.plot(rmseSlope,label='slope')\n",
    "modelPrediction = plt.plot(rmseHyb,label='hybrid')\n",
    "\n",
    "modelPrediction = plt.xlabel('folds')\n",
    "modelPrediction = plt.ylabel('rmse')\n",
    "plt.legend(bbox_to_anchor=(1.05, 1), loc=2, borderaxespad=0.)"
   ]
  },
  {
   "cell_type": "markdown",
   "metadata": {},
   "source": []
  },
  {
   "cell_type": "code",
   "execution_count": null,
   "metadata": {},
   "outputs": [],
   "source": []
  }
 ],
 "metadata": {
  "kernelspec": {
   "display_name": "Python 3 (ipykernel)",
   "language": "python",
   "name": "python3"
  },
  "language_info": {
   "codemirror_mode": {
    "name": "ipython",
    "version": 3
   },
   "file_extension": ".py",
   "mimetype": "text/x-python",
   "name": "python",
   "nbconvert_exporter": "python",
   "pygments_lexer": "ipython3",
   "version": "3.10.7"
  }
 },
 "nbformat": 4,
 "nbformat_minor": 4
}
