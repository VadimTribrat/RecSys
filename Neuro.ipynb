{
  "cells": [
    {
      "cell_type": "markdown",
      "metadata": {
        "id": "view-in-github",
        "colab_type": "text"
      },
      "source": [
        "<a href=\"https://colab.research.google.com/github/VadimTribrat/RecSys/blob/main/Neuro.ipynb\" target=\"_parent\"><img src=\"https://colab.research.google.com/assets/colab-badge.svg\" alt=\"Open In Colab\"/></a>"
      ]
    },
    {
      "cell_type": "code",
      "execution_count": 1,
      "id": "65457e01-63bb-49b9-b581-998d4e647457",
      "metadata": {
        "id": "65457e01-63bb-49b9-b581-998d4e647457"
      },
      "outputs": [],
      "source": [
        "import numpy as np\n",
        "import matplotlib.pyplot as plt\n",
        "import matplotlib.image as mpimg\n",
        "from scipy.stats import rv_discrete\n",
        "from tqdm import tqdm\n",
        "import math\n",
        "import warnings\n",
        "warnings.filterwarnings(\"ignore\")"
      ]
    },
    {
      "cell_type": "code",
      "execution_count": 2,
      "id": "f6f56174-8e23-4d42-a78e-8def12b70764",
      "metadata": {
        "id": "f6f56174-8e23-4d42-a78e-8def12b70764"
      },
      "outputs": [],
      "source": [
        "N = 64\n",
        "R_on = 25 * 1000\n",
        "R_off = 250 * 1000\n",
        "mu_v = 10 ** -14\n",
        "V_p = 1.5\n",
        "V_n = -1\n",
        "D = 20 * 10 ** -9\n",
        "R_int = 1000\n",
        "C_int = 45 * 10 ** -6\n",
        "V_te_plus = 2.5\n",
        "V_te_minus = -1.6\n",
        "V_te_zero = 20 * 10 ** -3\n",
        "V_out_plus = 2\n",
        "V_th = 10 ** -3\n",
        "tau_r = 20 * 10 ** -3\n",
        "tau_s = 10 ** -3\n",
        "tau_out = 10 * 10 ** -3"
      ]
    },
    {
      "cell_type": "code",
      "execution_count": 3,
      "id": "46e6ef0b-195d-45c8-9797-bfc92f16e77d",
      "metadata": {
        "id": "46e6ef0b-195d-45c8-9797-bfc92f16e77d"
      },
      "outputs": [],
      "source": [
        "x = np.random.uniform(size=N)\n",
        "V_int = 0\n",
        "tau = max(tau_r, tau_out) + 10 ** -5\n",
        "#tau = 0"
      ]
    },
    {
      "cell_type": "code",
      "execution_count": 4,
      "id": "3c183791-37f9-4932-91e4-e9c42b67b49a",
      "metadata": {
        "id": "3c183791-37f9-4932-91e4-e9c42b67b49a"
      },
      "outputs": [],
      "source": [
        "def V_te():\n",
        "    global tau\n",
        "    if tau <= tau_s:\n",
        "        return V_te_plus\n",
        "    elif tau_s < tau <= tau_r / 2:\n",
        "        return 0\n",
        "    elif tau_r / 2 < tau <= tau_r / 2 + tau_s:\n",
        "        # print(\"minus\")\n",
        "        return V_te_minus\n",
        "    elif tau_r / 2 + tau_s < tau <= tau_r:\n",
        "        return 0\n",
        "    elif tau_r < tau:\n",
        "        return V_te_zero"
      ]
    },
    {
      "cell_type": "code",
      "execution_count": 5,
      "id": "b92f0a69-716f-4e91-b55b-d3baadb561f1",
      "metadata": {
        "colab": {
          "base_uri": "https://localhost:8080/"
        },
        "id": "b92f0a69-716f-4e91-b55b-d3baadb561f1",
        "outputId": "a131fa5a-03ed-4dc2-d2d0-da657511744a"
      },
      "outputs": [
        {
          "output_type": "stream",
          "name": "stdout",
          "text": [
            "0.01 0.02001 0.011\n"
          ]
        }
      ],
      "source": [
        "tau = max(tau_r, tau_out) + 10 ** -5\n",
        "print(tau_r / 2 ,  tau , tau_r / 2 + tau_s)"
      ]
    },
    {
      "cell_type": "code",
      "execution_count": 6,
      "id": "5dd36cb1-9f70-4c33-8c10-005a9b2150f7",
      "metadata": {
        "id": "5dd36cb1-9f70-4c33-8c10-005a9b2150f7"
      },
      "outputs": [],
      "source": [
        "for t in np.arange(0.0, 0.1, 10 ** -5):\n",
        "    tau = t\n",
        "    V_te()"
      ]
    },
    {
      "cell_type": "code",
      "execution_count": 7,
      "id": "fdd5de2f-273a-49fa-9c38-33f723325e0b",
      "metadata": {
        "id": "fdd5de2f-273a-49fa-9c38-33f723325e0b"
      },
      "outputs": [],
      "source": [
        "def V_out():\n",
        "    if tau <= tau_out:\n",
        "        return V_out_plus\n",
        "    return 0"
      ]
    },
    {
      "cell_type": "code",
      "execution_count": 8,
      "id": "4af1181f-efd1-4ccd-85eb-4a68a17d3dde",
      "metadata": {
        "id": "4af1181f-efd1-4ccd-85eb-4a68a17d3dde"
      },
      "outputs": [],
      "source": [
        "def F_X(I, v, x):\n",
        "    if v >= V_p:\n",
        "        return mu_v * V_p / (D ** 2) * np.exp(R_on / V_p * I)\n",
        "    elif v <= V_n:\n",
        "        return mu_v * V_n / (D ** 2) * np.exp(R_on / V_n * I)\n",
        "    return mu_v * R_on * I / (D ** 2) "
      ]
    },
    {
      "cell_type": "code",
      "execution_count": 9,
      "id": "395b938d-98c6-4d6f-8ebf-999b1eb945f7",
      "metadata": {
        "id": "395b938d-98c6-4d6f-8ebf-999b1eb945f7"
      },
      "outputs": [],
      "source": [
        "def F_R(x, v):\n",
        "    return R_on * x + R_off * (1 - x)"
      ]
    },
    {
      "cell_type": "code",
      "execution_count": 18,
      "id": "f25cd953-496b-444b-a12e-03266aa1d932",
      "metadata": {
        "id": "f25cd953-496b-444b-a12e-03266aa1d932"
      },
      "outputs": [],
      "source": [
        "def update(dt, v_g):\n",
        "    Rs = 0\n",
        "    flag = False\n",
        "    global V_int, tau\n",
        "    dV_int = 0\n",
        "    for i in range(N):\n",
        "        if v_g[i] > 0:\n",
        "            R = F_R(x[i], V_te()  - V_int)\n",
        "            dx = F_X((V_te() - V_int) / R, V_te() - V_int, x[i]) * dt\n",
        "            if abs(dx) > 1:\n",
        "                dx = 1 if dx > 0 else -1\n",
        "            x[i] += dx\n",
        "            Rs += 1 / R\n",
        "            dV_int += (max(min(V_te_zero, V_te()), 0) - V_int) / R\n",
        "    dV_int  = (dV_int - V_int / R_int) / C_int * dt\n",
        "    if abs(dV_int) > 1:\n",
        "        flag = True\n",
        "        dV_int = 0.1 if dx > 0 else -0.1\n",
        "    V_int += dV_int\n",
        "    tau = tau + dt\n",
        "    if V_int >= V_th or flag:\n",
        "        tau = 0.0\n",
        "        V_int = 0.0\n",
        "    #print()\n",
        "    return V_int, (dV_int - V_int / R_int) / C_int * dt"
      ]
    },
    {
      "cell_type": "code",
      "execution_count": 19,
      "id": "23fee593-231e-4c0e-b65e-24b4ecd1eeea",
      "metadata": {
        "id": "23fee593-231e-4c0e-b65e-24b4ecd1eeea"
      },
      "outputs": [],
      "source": [
        "pattern = np.asarray([\n",
        "    [0, 0, 0, 0, 0, 0, 0, 0],\n",
        "    [0, 2, 2, 2, 2, 2, 2, 0],\n",
        "    [0, 2, 2, 0, 0, 0, 2, 0],\n",
        "    [0, 2, 0, 2, 0, 0, 2, 0],\n",
        "    [0, 2, 0, 0, 2, 0, 2, 0],\n",
        "    [0, 2, 0, 0, 0, 2, 2, 0],\n",
        "    [0, 2, 2, 2, 2, 2, 2, 0],\n",
        "    [0, 0, 0, 0, 0, 0, 0, 0]\n",
        "])\n",
        "pattern[pattern == 2] = 1\n",
        "pattern = pattern.ravel()"
      ]
    },
    {
      "cell_type": "code",
      "execution_count": 20,
      "id": "82fd6951-24e6-42ce-91b2-d377db2dffba",
      "metadata": {
        "colab": {
          "base_uri": "https://localhost:8080/",
          "height": 286
        },
        "id": "82fd6951-24e6-42ce-91b2-d377db2dffba",
        "outputId": "6866b1d3-0a15-4805-da59-6a6374bf1e0d"
      },
      "outputs": [
        {
          "output_type": "execute_result",
          "data": {
            "text/plain": [
              "<matplotlib.colorbar.Colorbar at 0x7fb301746610>"
            ]
          },
          "metadata": {},
          "execution_count": 20
        },
        {
          "output_type": "display_data",
          "data": {
            "text/plain": [
              "<Figure size 432x288 with 2 Axes>"
            ],
            "image/png": "[encoded data removed]"
          },
          "metadata": {
            "needs_background": "light"
          }
        }
      ],
      "source": [
        "plt.imshow(pattern.reshape(8, -1))\n",
        "plt.colorbar()"
      ]
    },
    {
      "cell_type": "code",
      "execution_count": 21,
      "id": "012f4cc9-a98a-43c6-b427-57ddc5fa7e1f",
      "metadata": {
        "id": "012f4cc9-a98a-43c6-b427-57ddc5fa7e1f"
      },
      "outputs": [],
      "source": [
        "rv = rv_discrete(values=([0, 1], [0.875, 0.125]))\n",
        "perm = rv_discrete(values=([0, 1], [0.5, 0.5]))"
      ]
    },
    {
      "cell_type": "code",
      "execution_count": 22,
      "id": "2cd48d53-7dab-4a50-9963-d29e8e5a2a38",
      "metadata": {
        "id": "2cd48d53-7dab-4a50-9963-d29e8e5a2a38"
      },
      "outputs": [],
      "source": [
        "x = np.random.uniform(size=N)\n",
        "V_int = 0\n",
        "tau = max(tau_r, tau_out) + 10 ** -5\n",
        "#tau = 0"
      ]
    },
    {
      "cell_type": "code",
      "execution_count": 26,
      "id": "130d4e2e-81d7-4c5b-bd22-9ea9f594d5bd",
      "metadata": {
        "tags": [],
        "colab": {
          "base_uri": "https://localhost:8080/"
        },
        "id": "130d4e2e-81d7-4c5b-bd22-9ea9f594d5bd",
        "outputId": "05f72c56-3016-4845-ae1e-fd931fa64f1b"
      },
      "outputs": [
        {
          "output_type": "stream",
          "name": "stderr",
          "text": [
            "100%|██████████| 500/500 [01:11<00:00,  7.01it/s]\n"
          ]
        }
      ],
      "source": [
        "stride = 10 ** -3\n",
        "n_iter = 1000\n",
        "obj = None\n",
        "\n",
        "x = np.random.uniform(0.0, 0.1, size=N)\n",
        "V_int = 0\n",
        "tau = max(tau_r, tau_out) + 10 ** -5\n",
        "#tau = 0\n",
        "fall = None\n",
        "for i in tqdm(range(500)):\n",
        "    if perm.rvs():\n",
        "        obj = pattern\n",
        "    else:\n",
        "        obj = rv.rvs(size=64)\n",
        "    # plt.imshow(obj.reshape(8, 8))\n",
        "    # plt.show()\n",
        "    for k in range(n_iter):\n",
        "        #update(stride / n_iter, obj)\n",
        "        fall = update(stride / n_iter, obj)\n",
        "    #print(\"\\n\\n\")"
      ]
    },
    {
      "cell_type": "code",
      "execution_count": 27,
      "id": "b1d871a3-6787-4643-bdda-fa79a51b7682",
      "metadata": {
        "colab": {
          "base_uri": "https://localhost:8080/",
          "height": 282
        },
        "id": "b1d871a3-6787-4643-bdda-fa79a51b7682",
        "outputId": "f541463b-7467-45a8-8592-4b5b75e08616"
      },
      "outputs": [
        {
          "output_type": "execute_result",
          "data": {
            "text/plain": [
              "<matplotlib.colorbar.Colorbar at 0x7fb30143c550>"
            ]
          },
          "metadata": {},
          "execution_count": 27
        },
        {
          "output_type": "display_data",
          "data": {
            "text/plain": [
              "<Figure size 432x288 with 2 Axes>"
            ],
            "image/png": "[encoded data removed]"
          },
          "metadata": {
            "needs_background": "light"
          }
        }
      ],
      "source": [
        "plt.imshow(x.reshape(8, 8))\n",
        "plt.colorbar()"
      ]
    },
    {
      "cell_type": "code",
      "execution_count": 29,
      "id": "ba5a3413-5f98-40b8-ac7e-0f105a9f0d8d",
      "metadata": {
        "colab": {
          "base_uri": "https://localhost:8080/",
          "height": 1000
        },
        "id": "ba5a3413-5f98-40b8-ac7e-0f105a9f0d8d",
        "outputId": "f53f8bc5-64fa-45ec-b6c7-1fa7aea95859"
      },
      "outputs": [
        {
          "output_type": "stream",
          "name": "stderr",
          "text": [
            "\r  0%|          | 0/10 [00:00<?, ?it/s]"
          ]
        },
        {
          "output_type": "stream",
          "name": "stdout",
          "text": [
            "Epoch:100\n"
          ]
        },
        {
          "output_type": "display_data",
          "data": {
            "text/plain": [
              "<Figure size 432x288 with 1 Axes>"
            ],
            "image/png": "[encoded data removed]"
          },
          "metadata": {
            "needs_background": "light"
          }
        },
        {
          "output_type": "stream",
          "name": "stderr",
          "text": [
            "\r 10%|█         | 1/10 [00:14<02:06, 14.08s/it]"
          ]
        },
        {
          "output_type": "stream",
          "name": "stdout",
          "text": [
            "Epoch:300\n"
          ]
        },
        {
          "output_type": "display_data",
          "data": {
            "text/plain": [
              "<Figure size 432x288 with 1 Axes>"
            ],
            "image/png": "[encoded data removed]"
          },
          "metadata": {
            "needs_background": "light"
          }
        },
        {
          "output_type": "stream",
          "name": "stderr",
          "text": [
            "\r 20%|██        | 2/10 [00:53<03:50, 28.77s/it]"
          ]
        },
        {
          "output_type": "stream",
          "name": "stdout",
          "text": [
            "Epoch:500\n"
          ]
        },
        {
          "output_type": "display_data",
          "data": {
            "text/plain": [
              "<Figure size 432x288 with 1 Axes>"
            ],
            "image/png": "[encoded data removed]"
          },
          "metadata": {
            "needs_background": "light"
          }
        },
        {
          "output_type": "stream",
          "name": "stderr",
          "text": [
            "\r 30%|███       | 3/10 [01:58<05:17, 45.40s/it]"
          ]
        },
        {
          "output_type": "stream",
          "name": "stdout",
          "text": [
            "Epoch:700\n"
          ]
        },
        {
          "output_type": "display_data",
          "data": {
            "text/plain": [
              "<Figure size 432x288 with 1 Axes>"
            ],
            "image/png": "[encoded data removed]"
          },
          "metadata": {
            "needs_background": "light"
          }
        },
        {
          "output_type": "stream",
          "name": "stderr",
          "text": [
            "\r 40%|████      | 4/10 [03:29<06:20, 63.39s/it]"
          ]
        },
        {
          "output_type": "stream",
          "name": "stdout",
          "text": [
            "Epoch:900\n"
          ]
        },
        {
          "output_type": "display_data",
          "data": {
            "text/plain": [
              "<Figure size 432x288 with 1 Axes>"
            ],
            "image/png": "[encoded data removed]"
          },
          "metadata": {
            "needs_background": "light"
          }
        },
        {
          "output_type": "stream",
          "name": "stderr",
          "text": [
            "\r 50%|█████     | 5/10 [05:24<06:49, 81.91s/it]"
          ]
        },
        {
          "output_type": "stream",
          "name": "stdout",
          "text": [
            "Epoch:1100\n"
          ]
        },
        {
          "output_type": "display_data",
          "data": {
            "text/plain": [
              "<Figure size 432x288 with 1 Axes>"
            ],
            "image/png": "[encoded data removed]"
          },
          "metadata": {
            "needs_background": "light"
          }
        },
        {
          "output_type": "stream",
          "name": "stderr",
          "text": [
            "\r 60%|██████    | 6/10 [07:49<06:54, 103.67s/it]"
          ]
        },
        {
          "output_type": "stream",
          "name": "stdout",
          "text": [
            "Epoch:1300\n"
          ]
        },
        {
          "output_type": "display_data",
          "data": {
            "text/plain": [
              "<Figure size 432x288 with 1 Axes>"
            ],
            "image/png": "[encoded data removed]"
          },
          "metadata": {
            "needs_background": "light"
          }
        },
        {
          "output_type": "stream",
          "name": "stderr",
          "text": [
            "\r 70%|███████   | 7/10 [10:42<06:18, 126.04s/it]"
          ]
        },
        {
          "output_type": "stream",
          "name": "stdout",
          "text": [
            "Epoch:1500\n"
          ]
        },
        {
          "output_type": "display_data",
          "data": {
            "text/plain": [
              "<Figure size 432x288 with 1 Axes>"
            ],
            "image/png": "[encoded data removed]"
          },
          "metadata": {
            "needs_background": "light"
          }
        },
        {
          "output_type": "stream",
          "name": "stderr",
          "text": [
            "\r 80%|████████  | 8/10 [13:55<04:55, 147.53s/it]"
          ]
        },
        {
          "output_type": "stream",
          "name": "stdout",
          "text": [
            "Epoch:1700\n"
          ]
        },
        {
          "output_type": "display_data",
          "data": {
            "text/plain": [
              "<Figure size 432x288 with 1 Axes>"
            ],
            "image/png": "[encoded data removed]"
          },
          "metadata": {
            "needs_background": "light"
          }
        },
        {
          "output_type": "stream",
          "name": "stderr",
          "text": [
            "\r 90%|█████████ | 9/10 [17:38<02:51, 171.15s/it]"
          ]
        },
        {
          "output_type": "stream",
          "name": "stdout",
          "text": [
            "Epoch:1900\n"
          ]
        },
        {
          "output_type": "display_data",
          "data": {
            "text/plain": [
              "<Figure size 432x288 with 1 Axes>"
            ],
            "image/png": "[encoded data removed]"
          },
          "metadata": {
            "needs_background": "light"
          }
        },
        {
          "output_type": "stream",
          "name": "stderr",
          "text": [
            "100%|██████████| 10/10 [21:48<00:00, 130.88s/it]\n"
          ]
        }
      ],
      "source": [
        "for epoch in tqdm(range(100, 2001, 200)):\n",
        "    stride = 10 ** -3\n",
        "    n_iter = 1000\n",
        "    obj = None\n",
        "\n",
        "    x = np.random.uniform(0.0, 0.1, size=N)\n",
        "    V_int = 0\n",
        "    tau = max(tau_r, tau_out) + 10 ** -5\n",
        "    #tau = 0\n",
        "    fall = None\n",
        "    for i in range(epoch):\n",
        "        if perm.rvs():\n",
        "            obj = pattern\n",
        "        else:\n",
        "            obj = rv.rvs(size=64)\n",
        "        # plt.imshow(obj.reshape(8, 8))\n",
        "        # plt.show()\n",
        "        for k in range(n_iter):\n",
        "            #update(stride / n_iter, obj)\n",
        "            fall = update(stride / n_iter, obj)\n",
        "        #print(\"\\n\\n\") \n",
        "    print(f\"Epoch:{epoch}\")\n",
        "    plt.imshow(x.reshape(8, 8))\n",
        "    plt.show()"
      ]
    }
  ],
  "metadata": {
    "kernelspec": {
      "display_name": "Python 3 (ipykernel)",
      "language": "python",
      "name": "python3"
    },
    "language_info": {
      "codemirror_mode": {
        "name": "ipython",
        "version": 3
      },
      "file_extension": ".py",
      "mimetype": "text/x-python",
      "name": "python",
      "nbconvert_exporter": "python",
      "pygments_lexer": "ipython3",
      "version": "3.10.7"
    },
    "colab": {
      "provenance": [],
      "include_colab_link": true
    }
  },
  "nbformat": 4,
  "nbformat_minor": 5
}