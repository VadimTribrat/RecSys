{
 "cells": [
  {
   "cell_type": "code",
   "execution_count": 1,
   "id": "554318a6-f010-484e-85f8-6bb662740599",
   "metadata": {},
   "outputs": [
    {
     "name": "stderr",
     "output_type": "stream",
     "text": [
      "C:\\Users\\vdtri\\AppData\\Local\\Programs\\Python\\Python310\\lib\\site-packages\\tqdm\\auto.py:22: TqdmWarning: IProgress not found. Please update jupyter and ipywidgets. See https://ipywidgets.readthedocs.io/en/stable/user_install.html\n",
      "  from .autonotebook import tqdm as notebook_tqdm\n"
     ]
    }
   ],
   "source": [
    "import pandas as pd\n",
    "import numpy as np\n",
    "import surprise\n",
    "from tqdm import tqdm\n",
    "import nltk\n",
    "from nltk.corpus import stopwords\n",
    "import re\n",
    "from nltk.stem import WordNetLemmatizer\n",
    "import gensim.models.keyedvectors as word2vec\n",
    "from scipy.spatial.distance import cdist\n",
    "import matplotlib.pyplot as plt\n",
    "import umap\n",
    "import pickle\n",
    "from sklearn.model_selection import train_test_split\n",
    "from sklearn.model_selection import GridSearchCV\n",
    "from sklearn.linear_model import Ridge\n",
    "from sklearn.metrics import mean_squared_error as rmse\n",
    "import xgboost\n",
    "from sklearn.metrics import r2_score\n",
    "from sklearn.tree import DecisionTreeRegressor"
   ]
  },
  {
   "cell_type": "code",
   "execution_count": 2,
   "id": "6d7135d5-8562-4368-94dd-b65fcbb61a72",
   "metadata": {},
   "outputs": [
    {
     "name": "stderr",
     "output_type": "stream",
     "text": [
      "100%|████████████████████████████████████████████████████████████████████████████████████| 5/5 [01:00<00:00, 12.19s/it]\n"
     ]
    }
   ],
   "source": [
    "dfs = []\n",
    "for i in tqdm(range(1, 6)):\n",
    "    dfs.append(pd.read_excel(f\"dataset/{i}.xls\", header=None))"
   ]
  },
  {
   "cell_type": "code",
   "execution_count": 3,
   "id": "92d9b14f-13d3-4382-8980-32586793fed6",
   "metadata": {},
   "outputs": [
    {
     "data": {
      "text/html": [
       "<div>\n",
       "<style scoped>\n",
       "    .dataframe tbody tr th:only-of-type {\n",
       "        vertical-align: middle;\n",
       "    }\n",
       "\n",
       "    .dataframe tbody tr th {\n",
       "        vertical-align: top;\n",
       "    }\n",
       "\n",
       "    .dataframe thead th {\n",
       "        text-align: right;\n",
       "    }\n",
       "</style>\n",
       "<table border=\"1\" class=\"dataframe\">\n",
       "  <thead>\n",
       "    <tr style=\"text-align: right;\">\n",
       "      <th></th>\n",
       "      <th>1</th>\n",
       "      <th>2</th>\n",
       "      <th>3</th>\n",
       "      <th>4</th>\n",
       "      <th>5</th>\n",
       "      <th>6</th>\n",
       "      <th>7</th>\n",
       "      <th>8</th>\n",
       "      <th>9</th>\n",
       "      <th>10</th>\n",
       "      <th>...</th>\n",
       "      <th>149</th>\n",
       "      <th>150</th>\n",
       "      <th>151</th>\n",
       "      <th>152</th>\n",
       "      <th>153</th>\n",
       "      <th>154</th>\n",
       "      <th>155</th>\n",
       "      <th>156</th>\n",
       "      <th>157</th>\n",
       "      <th>158</th>\n",
       "    </tr>\n",
       "  </thead>\n",
       "  <tbody>\n",
       "    <tr>\n",
       "      <th>0</th>\n",
       "      <td>1.436</td>\n",
       "      <td>4.758</td>\n",
       "      <td>1.068</td>\n",
       "      <td>1.368</td>\n",
       "      <td>1.496</td>\n",
       "      <td>1.300</td>\n",
       "      <td>1.030</td>\n",
       "      <td>3.834</td>\n",
       "      <td>1.204</td>\n",
       "      <td>2.048</td>\n",
       "      <td>...</td>\n",
       "      <td>0.0</td>\n",
       "      <td>0.0</td>\n",
       "      <td>0.0</td>\n",
       "      <td>0.0</td>\n",
       "      <td>0.0</td>\n",
       "      <td>0.0</td>\n",
       "      <td>0.0</td>\n",
       "      <td>0.0</td>\n",
       "      <td>0.0</td>\n",
       "      <td>0.0</td>\n",
       "    </tr>\n",
       "    <tr>\n",
       "      <th>1</th>\n",
       "      <td>3.816</td>\n",
       "      <td>2.942</td>\n",
       "      <td>4.272</td>\n",
       "      <td>3.874</td>\n",
       "      <td>2.524</td>\n",
       "      <td>1.068</td>\n",
       "      <td>2.854</td>\n",
       "      <td>1.932</td>\n",
       "      <td>4.776</td>\n",
       "      <td>4.844</td>\n",
       "      <td>...</td>\n",
       "      <td>0.0</td>\n",
       "      <td>0.0</td>\n",
       "      <td>0.0</td>\n",
       "      <td>0.0</td>\n",
       "      <td>0.0</td>\n",
       "      <td>0.0</td>\n",
       "      <td>0.0</td>\n",
       "      <td>0.0</td>\n",
       "      <td>0.0</td>\n",
       "      <td>0.0</td>\n",
       "    </tr>\n",
       "    <tr>\n",
       "      <th>2</th>\n",
       "      <td>0.000</td>\n",
       "      <td>0.000</td>\n",
       "      <td>0.000</td>\n",
       "      <td>0.000</td>\n",
       "      <td>4.806</td>\n",
       "      <td>4.854</td>\n",
       "      <td>4.806</td>\n",
       "      <td>4.854</td>\n",
       "      <td>0.000</td>\n",
       "      <td>0.000</td>\n",
       "      <td>...</td>\n",
       "      <td>0.0</td>\n",
       "      <td>0.0</td>\n",
       "      <td>0.0</td>\n",
       "      <td>0.0</td>\n",
       "      <td>0.0</td>\n",
       "      <td>0.0</td>\n",
       "      <td>0.0</td>\n",
       "      <td>0.0</td>\n",
       "      <td>0.0</td>\n",
       "      <td>0.0</td>\n",
       "    </tr>\n",
       "    <tr>\n",
       "      <th>3</th>\n",
       "      <td>0.000</td>\n",
       "      <td>4.670</td>\n",
       "      <td>0.000</td>\n",
       "      <td>0.000</td>\n",
       "      <td>3.360</td>\n",
       "      <td>4.632</td>\n",
       "      <td>2.436</td>\n",
       "      <td>4.242</td>\n",
       "      <td>0.000</td>\n",
       "      <td>3.368</td>\n",
       "      <td>...</td>\n",
       "      <td>0.0</td>\n",
       "      <td>0.0</td>\n",
       "      <td>0.0</td>\n",
       "      <td>0.0</td>\n",
       "      <td>0.0</td>\n",
       "      <td>0.0</td>\n",
       "      <td>0.0</td>\n",
       "      <td>0.0</td>\n",
       "      <td>0.0</td>\n",
       "      <td>0.0</td>\n",
       "    </tr>\n",
       "    <tr>\n",
       "      <th>4</th>\n",
       "      <td>4.700</td>\n",
       "      <td>3.922</td>\n",
       "      <td>2.166</td>\n",
       "      <td>1.922</td>\n",
       "      <td>3.272</td>\n",
       "      <td>3.320</td>\n",
       "      <td>4.408</td>\n",
       "      <td>3.922</td>\n",
       "      <td>2.912</td>\n",
       "      <td>4.146</td>\n",
       "      <td>...</td>\n",
       "      <td>0.0</td>\n",
       "      <td>0.0</td>\n",
       "      <td>0.0</td>\n",
       "      <td>0.0</td>\n",
       "      <td>0.0</td>\n",
       "      <td>0.0</td>\n",
       "      <td>0.0</td>\n",
       "      <td>0.0</td>\n",
       "      <td>0.0</td>\n",
       "      <td>0.0</td>\n",
       "    </tr>\n",
       "  </tbody>\n",
       "</table>\n",
       "<p>5 rows × 158 columns</p>\n",
       "</div>"
      ],
      "text/plain": [
       "     1      2      3      4      5      6      7      8      9      10   ...  \\\n",
       "0  1.436  4.758  1.068  1.368  1.496  1.300  1.030  3.834  1.204  2.048  ...   \n",
       "1  3.816  2.942  4.272  3.874  2.524  1.068  2.854  1.932  4.776  4.844  ...   \n",
       "2  0.000  0.000  0.000  0.000  4.806  4.854  4.806  4.854  0.000  0.000  ...   \n",
       "3  0.000  4.670  0.000  0.000  3.360  4.632  2.436  4.242  0.000  3.368  ...   \n",
       "4  4.700  3.922  2.166  1.922  3.272  3.320  4.408  3.922  2.912  4.146  ...   \n",
       "\n",
       "   149  150  151  152  153  154  155  156  157  158  \n",
       "0  0.0  0.0  0.0  0.0  0.0  0.0  0.0  0.0  0.0  0.0  \n",
       "1  0.0  0.0  0.0  0.0  0.0  0.0  0.0  0.0  0.0  0.0  \n",
       "2  0.0  0.0  0.0  0.0  0.0  0.0  0.0  0.0  0.0  0.0  \n",
       "3  0.0  0.0  0.0  0.0  0.0  0.0  0.0  0.0  0.0  0.0  \n",
       "4  0.0  0.0  0.0  0.0  0.0  0.0  0.0  0.0  0.0  0.0  \n",
       "\n",
       "[5 rows x 158 columns]"
      ]
     },
     "execution_count": 3,
     "metadata": {},
     "output_type": "execute_result"
    }
   ],
   "source": [
    "df = pd.concat(dfs, axis=0)\n",
    "df = df[range(1, df.shape[1])]\n",
    "df[df == 99] = None\n",
    "df = (df + 10) * 4 /20 + 1\n",
    "df.fillna(0, inplace=True)\n",
    "df.head()"
   ]
  },
  {
   "cell_type": "code",
   "execution_count": 4,
   "id": "6a4a11b1-6740-4eec-b4f3-284c7e70e0b9",
   "metadata": {},
   "outputs": [],
   "source": [
    "df = df.reset_index(drop=True)\n",
    "df.to_csv(r\"C:\\Users\\vdtri\\Documents\\Учеба\\Рекомендательные системы\\proj\\dataset\\dataset.csv\", index_label='index')"
   ]
  },
  {
   "cell_type": "code",
   "execution_count": 5,
   "id": "595c81f6-5d2a-4a55-9c70-0b0c10024329",
   "metadata": {},
   "outputs": [
    {
     "data": {
      "text/html": [
       "<div>\n",
       "<style scoped>\n",
       "    .dataframe tbody tr th:only-of-type {\n",
       "        vertical-align: middle;\n",
       "    }\n",
       "\n",
       "    .dataframe tbody tr th {\n",
       "        vertical-align: top;\n",
       "    }\n",
       "\n",
       "    .dataframe thead th {\n",
       "        text-align: right;\n",
       "    }\n",
       "</style>\n",
       "<table border=\"1\" class=\"dataframe\">\n",
       "  <thead>\n",
       "    <tr style=\"text-align: right;\">\n",
       "      <th></th>\n",
       "      <th>0</th>\n",
       "    </tr>\n",
       "  </thead>\n",
       "  <tbody>\n",
       "    <tr>\n",
       "      <th>0</th>\n",
       "      <td>a man visits the doctor  the doctor says  i ha...</td>\n",
       "    </tr>\n",
       "    <tr>\n",
       "      <th>1</th>\n",
       "      <td>this couple had an excellent relationship goin...</td>\n",
       "    </tr>\n",
       "    <tr>\n",
       "      <th>2</th>\n",
       "      <td>q  what s     feet long and has   teeth    a  ...</td>\n",
       "    </tr>\n",
       "    <tr>\n",
       "      <th>3</th>\n",
       "      <td>q  what s the difference between a man and a t...</td>\n",
       "    </tr>\n",
       "    <tr>\n",
       "      <th>4</th>\n",
       "      <td>q  what s o  j  simpson s internet address   a...</td>\n",
       "    </tr>\n",
       "  </tbody>\n",
       "</table>\n",
       "</div>"
      ],
      "text/plain": [
       "                                                   0\n",
       "0  a man visits the doctor  the doctor says  i ha...\n",
       "1  this couple had an excellent relationship goin...\n",
       "2  q  what s     feet long and has   teeth    a  ...\n",
       "3  q  what s the difference between a man and a t...\n",
       "4  q  what s o  j  simpson s internet address   a..."
      ]
     },
     "execution_count": 5,
     "metadata": {},
     "output_type": "execute_result"
    }
   ],
   "source": [
    "lemmatizer = WordNetLemmatizer()\n",
    "\n",
    "orig_texts = pd.read_excel(\"dataset/Dataset4JokeSet.xlsx\", header=None)\n",
    "texts = pd.read_excel(\"dataset/Dataset4JokeSet.xlsx\", header=None)\n",
    "texts = texts.applymap(lambda x: x.lower())\n",
    "texts = texts.applymap(lambda x: re.sub(\"[^a-zA-Z]\", \" \", x))\n",
    "texts.head()"
   ]
  },
  {
   "cell_type": "code",
   "execution_count": 6,
   "id": "46c68083-e9db-4ed7-9109-80d030726591",
   "metadata": {},
   "outputs": [
    {
     "data": {
      "text/html": [
       "<div>\n",
       "<style scoped>\n",
       "    .dataframe tbody tr th:only-of-type {\n",
       "        vertical-align: middle;\n",
       "    }\n",
       "\n",
       "    .dataframe tbody tr th {\n",
       "        vertical-align: top;\n",
       "    }\n",
       "\n",
       "    .dataframe thead th {\n",
       "        text-align: right;\n",
       "    }\n",
       "</style>\n",
       "<table border=\"1\" class=\"dataframe\">\n",
       "  <thead>\n",
       "    <tr style=\"text-align: right;\">\n",
       "      <th></th>\n",
       "      <th>0</th>\n",
       "    </tr>\n",
       "  </thead>\n",
       "  <tbody>\n",
       "    <tr>\n",
       "      <th>0</th>\n",
       "      <td>man visit doctor doctor say bad news cancer a...</td>\n",
       "    </tr>\n",
       "    <tr>\n",
       "      <th>1</th>\n",
       "      <td>couple excellent relationship going one day c...</td>\n",
       "    </tr>\n",
       "    <tr>\n",
       "      <th>2</th>\n",
       "      <td>foot long teeth front row willie nelson concert</td>\n",
       "    </tr>\n",
       "    <tr>\n",
       "      <th>3</th>\n",
       "      <td>difference man toilet toilet follow around use</td>\n",
       "    </tr>\n",
       "    <tr>\n",
       "      <th>4</th>\n",
       "      <td>simpson internet address slash slash backslas...</td>\n",
       "    </tr>\n",
       "  </tbody>\n",
       "</table>\n",
       "</div>"
      ],
      "text/plain": [
       "                                                   0\n",
       "0   man visit doctor doctor say bad news cancer a...\n",
       "1   couple excellent relationship going one day c...\n",
       "2    foot long teeth front row willie nelson concert\n",
       "3    difference man toilet toilet follow around use \n",
       "4   simpson internet address slash slash backslas..."
      ]
     },
     "execution_count": 6,
     "metadata": {},
     "output_type": "execute_result"
    }
   ],
   "source": [
    "texts = texts.applymap(lambda x: ' '.join(map(lemmatizer.lemmatize, x.split())))\n",
    "texts = texts.applymap(lambda x: ' '.join(map(lambda w: '' if w in stopwords.words('english') or len(w) < 3 else w, x.split())))\n",
    "texts = texts.applymap(lambda x: re.sub('\\s+', ' ', x))\n",
    "texts.head()"
   ]
  },
  {
   "cell_type": "code",
   "execution_count": 64,
   "id": "6e288ec8-8cca-40a1-8ee2-ddbcf9b1c77f",
   "metadata": {},
   "outputs": [],
   "source": [
    "w2v = word2vec.load_word2vec_format(r\"C:\\Users\\vdtri\\Documents\\Учеба\\Рекомендательные системы\\proj\\model.bin\", binary=True)"
   ]
  },
  {
   "cell_type": "code",
   "execution_count": 65,
   "id": "412d8730-a6ea-4205-a25c-5f55e9267f64",
   "metadata": {},
   "outputs": [
    {
     "name": "stderr",
     "output_type": "stream",
     "text": [
      "100%|████████████████████████████████████████████████████████████████████████████████| 158/158 [00:02<00:00, 63.08it/s]\n"
     ]
    }
   ],
   "source": [
    "lst = []\n",
    "for i in tqdm(range(158)):\n",
    "    temp = np.array(list(map(lambda x: w2v[x] if x in w2v.index_to_key else np.full(300, 0), texts.loc[i][0].split())))\n",
    "    lst.append(np.mean(temp, axis=0))\n",
    "#lst = np.array(lst)\n",
    "dim_red_joke = umap.UMAP(n_neighbors=4, n_components=10)\n",
    "vecs = dim_red_joke.fit_transform(lst)\n",
    "vec_repr = pd.DataFrame({'vec': lst})"
   ]
  },
  {
   "cell_type": "code",
   "execution_count": 66,
   "id": "ed398b40-b568-49e9-857a-3028a0fb95b9",
   "metadata": {},
   "outputs": [],
   "source": [
    "# with open(r\"C:\\Users\\vdtri\\Documents\\Учеба\\Рекомендательные системы\\proj\\models\\dim_red_joke\", 'wb') as f:\n",
    "#     pickle.dump(dim_red_joke, f)"
   ]
  },
  {
   "cell_type": "code",
   "execution_count": 67,
   "id": "fb326cb6-2bdc-4ff1-8fc1-231cede72ed3",
   "metadata": {},
   "outputs": [],
   "source": [
    "# store_vecs = []\n",
    "# for val in vecs:\n",
    "#     store_vecs.append(','.join(map(str, val)))\n",
    "# sv = pd.DataFrame({'vec':store_vecs})\n",
    "# sv.to_csv(r\"C:\\Users\\vdtri\\Documents\\Учеба\\Рекомендательные системы\\proj\\dataset\\joke_vecs.csv\", index_label=\"index\")"
   ]
  },
  {
   "cell_type": "code",
   "execution_count": 5,
   "id": "f58f26ed-7ebc-4983-9c9a-b144cba2a486",
   "metadata": {},
   "outputs": [
    {
     "data": {
      "text/html": [
       "<div>\n",
       "<style scoped>\n",
       "    .dataframe tbody tr th:only-of-type {\n",
       "        vertical-align: middle;\n",
       "    }\n",
       "\n",
       "    .dataframe tbody tr th {\n",
       "        vertical-align: top;\n",
       "    }\n",
       "\n",
       "    .dataframe thead th {\n",
       "        text-align: right;\n",
       "    }\n",
       "</style>\n",
       "<table border=\"1\" class=\"dataframe\">\n",
       "  <thead>\n",
       "    <tr style=\"text-align: right;\">\n",
       "      <th></th>\n",
       "      <th>vec</th>\n",
       "    </tr>\n",
       "    <tr>\n",
       "      <th>index</th>\n",
       "      <th></th>\n",
       "    </tr>\n",
       "  </thead>\n",
       "  <tbody>\n",
       "    <tr>\n",
       "      <th>0</th>\n",
       "      <td>9.215792,7.1518307,7.333948,7.554291,6.093221,...</td>\n",
       "    </tr>\n",
       "    <tr>\n",
       "      <th>1</th>\n",
       "      <td>9.095252,7.5165243,7.2224517,7.3640776,5.60667...</td>\n",
       "    </tr>\n",
       "    <tr>\n",
       "      <th>2</th>\n",
       "      <td>10.893514,8.768776,6.6913805,7.9893293,5.25730...</td>\n",
       "    </tr>\n",
       "    <tr>\n",
       "      <th>3</th>\n",
       "      <td>9.589137,8.77962,6.6775923,8.362339,6.0213175,...</td>\n",
       "    </tr>\n",
       "    <tr>\n",
       "      <th>4</th>\n",
       "      <td>10.146294,8.207376,6.2449346,8.142194,5.657114...</td>\n",
       "    </tr>\n",
       "  </tbody>\n",
       "</table>\n",
       "</div>"
      ],
      "text/plain": [
       "                                                     vec\n",
       "index                                                   \n",
       "0      9.215792,7.1518307,7.333948,7.554291,6.093221,...\n",
       "1      9.095252,7.5165243,7.2224517,7.3640776,5.60667...\n",
       "2      10.893514,8.768776,6.6913805,7.9893293,5.25730...\n",
       "3      9.589137,8.77962,6.6775923,8.362339,6.0213175,...\n",
       "4      10.146294,8.207376,6.2449346,8.142194,5.657114..."
      ]
     },
     "execution_count": 5,
     "metadata": {},
     "output_type": "execute_result"
    }
   ],
   "source": [
    "sv = pd.read_csv(r\"C:\\Users\\vdtri\\Documents\\Учеба\\Рекомендательные системы\\proj\\dataset\\joke_vecs.csv\", index_col='index')\n",
    "big_vec = []\n",
    "for i in sv.index:\n",
    "    big_vec.append(list(map(lambda x: float(x), sv.loc[i].values[0].split(','))))\n",
    "sv.head()"
   ]
  },
  {
   "cell_type": "code",
   "execution_count": 6,
   "id": "6b3ba039-b531-46b9-9aee-3579a2d178e3",
   "metadata": {},
   "outputs": [
    {
     "data": {
      "text/plain": [
       "(158, 10)"
      ]
     },
     "execution_count": 6,
     "metadata": {},
     "output_type": "execute_result"
    }
   ],
   "source": [
    "vecs = np.asarray(big_vec)\n",
    "vecs.shape"
   ]
  },
  {
   "cell_type": "code",
   "execution_count": 12,
   "id": "16e7b1b5-965d-4475-8989-1e446638fa49",
   "metadata": {},
   "outputs": [],
   "source": [
    "dred = umap.UMAP(n_neighbors=3, n_components=2)\n",
    "vec_for_analyse = dred.fit_transform(lst)"
   ]
  },
  {
   "cell_type": "code",
   "execution_count": 13,
   "id": "2a90eddc-2f47-48a0-8836-34f402f3e407",
   "metadata": {
    "tags": []
   },
   "outputs": [
    {
     "data": {
      "image/png": "[encoded data removed]",
      "text/plain": [
       "<Figure size 640x480 with 1 Axes>"
      ]
     },
     "metadata": {},
     "output_type": "display_data"
    }
   ],
   "source": [
    "from sklearn.cluster import DBSCAN\n",
    "import numpy as np\n",
    "clustering = DBSCAN(eps=0.55, min_samples=4).fit(vec_for_analyse)\n",
    "cll = clustering.labels_\n",
    "\n",
    "colors = []\n",
    "for ind, val in enumerate(vec_for_analyse):\n",
    "    colors.append(cll[ind] + 1)\n",
    "colors = np.asarray(colors)\n",
    "colors = colors / len(colors)\n",
    "plt.scatter(vec_for_analyse[:, 0], vec_for_analyse[:, 1], c=colors)\n",
    "plt.grid(True)"
   ]
  },
  {
   "cell_type": "code",
   "execution_count": 57,
   "id": "db4d525f-7ab2-4434-a820-d923c8685a45",
   "metadata": {},
   "outputs": [],
   "source": [
    "sim = cdist([vec_repr.iloc[79, 0]], vec_repr['vec'].values.tolist(), metric='cosine')\n",
    "#sim = cdist([u[28]], u)"
   ]
  },
  {
   "cell_type": "code",
   "execution_count": 58,
   "id": "209e9da1-8782-4617-954a-a35b7713fbeb",
   "metadata": {
    "tags": []
   },
   "outputs": [
    {
     "data": {
      "text/plain": [
       "[(79, 0.0),\n",
       " (5, 0.2236960606894659),\n",
       " (55, 0.26067136403885427),\n",
       " (147, 0.27892148260515703),\n",
       " (26, 0.28117752688386555),\n",
       " (127, 0.2843839715436858)]"
      ]
     },
     "execution_count": 58,
     "metadata": {},
     "output_type": "execute_result"
    }
   ],
   "source": [
    "sorted(zip(range(158), sim.ravel()), key=lambda x: x[1])[:6]"
   ]
  },
  {
   "cell_type": "code",
   "execution_count": 59,
   "id": "27bcf58c-8af9-4342-8b67-2bd465a4dfbd",
   "metadata": {},
   "outputs": [
    {
     "data": {
      "text/plain": [
       "'Hillary, Bill Clinton and the Pope are sitting together on an airplane.  Bill says \"I could throw one thousand dollar bill out of this plane and make one person very happy.\"  Hillary says \"I could throw 10 hundred dollar bills out of the plane and make 10 people very happy.\"  The Pope chips in and says \"I could throw Bill out of the airplane and make the whole  country happy.\"'"
      ]
     },
     "execution_count": 59,
     "metadata": {},
     "output_type": "execute_result"
    }
   ],
   "source": [
    "orig_texts.iloc[79][0]"
   ]
  },
  {
   "cell_type": "code",
   "execution_count": 60,
   "id": "6dcbf635-0fe6-4944-b018-8b69400810e1",
   "metadata": {},
   "outputs": [
    {
     "data": {
      "text/plain": [
       "'Recently a teacher, a garbage collector, and a lawyer wound up together at the Pearly Gates. St. Peter informed them that in order to get into Heaven, they would each have to answer one question. St. Peter addressed the teacher and asked, \"What was the name of the ship that crashed into the iceberg? They just made a movie about it.\" The teacher answered quickly, \"That would be the Titanic.\" St. Peter let him through the gate. St. Peter turned to the garbage man and, figuring Heaven didn\\'t really need all the odors that this guy would bring with him, decided to make the question a little harder: \"How many people died on the ship?\" Fortunately for him, the trash man had just seen the movie. \"1,228,\" he answered. \"That\\'s right! You may enter.\" St. Peter turned to the lawyer: \"Name them.\"'"
      ]
     },
     "execution_count": 60,
     "metadata": {},
     "output_type": "execute_result"
    }
   ],
   "source": [
    "orig_texts.iloc[147][0]"
   ]
  },
  {
   "cell_type": "markdown",
   "id": "79f3ee41-90a0-4fe1-9558-745402bc8ff3",
   "metadata": {},
   "source": [
    "# User vector"
   ]
  },
  {
   "cell_type": "code",
   "execution_count": 18,
   "id": "f4ce7296-b231-400f-853c-81e48c7608ca",
   "metadata": {},
   "outputs": [],
   "source": [
    "# with open(r\"C:\\Users\\vdtri\\Documents\\Учеба\\Рекомендательные системы\\proj\\models\\dim_red_user\", 'wb') as f:\n",
    "#     pickle.dump(dim_red, f)"
   ]
  },
  {
   "cell_type": "code",
   "execution_count": 19,
   "id": "8f877f45-209d-4c87-8f66-3850c1dbdbad",
   "metadata": {},
   "outputs": [],
   "source": [
    "# with open(r\"C:\\Users\\vdtri\\Documents\\Учеба\\Рекомендательные системы\\proj\\models\\dim_red_joke\", 'wb') as f:\n",
    "#     pickle.dump(dim_red_joke, f)"
   ]
  },
  {
   "cell_type": "code",
   "execution_count": 20,
   "id": "3c53c6fb-cbe5-4c79-8bf3-884bb250b397",
   "metadata": {},
   "outputs": [],
   "source": [
    "# store_vecs = []\n",
    "# for val in user_vec:\n",
    "#     store_vecs.append(','.join(map(str, val)))\n",
    "# sv = pd.DataFrame({'vec':store_vecs})\n",
    "# sv.to_csv(r\"C:\\Users\\vdtri\\Documents\\Учеба\\Рекомендательные системы\\proj\\dataset\\user_vecs.csv\", index_label=\"index\")"
   ]
  },
  {
   "cell_type": "code",
   "execution_count": 68,
   "id": "25980514-d30c-4448-9714-8ef012864fb4",
   "metadata": {},
   "outputs": [],
   "source": [
    "del w2v"
   ]
  },
  {
   "cell_type": "code",
   "execution_count": 7,
   "id": "c34d6d8c-fa80-4b2a-97eb-2fee8092a947",
   "metadata": {
    "tags": []
   },
   "outputs": [
    {
     "name": "stderr",
     "output_type": "stream",
     "text": [
      "136025it [00:59, 2299.11it/s]\n"
     ]
    }
   ],
   "source": [
    "dataset = []\n",
    "target = []\n",
    "# i = 0\n",
    "# lst = np.asarray(lst)\n",
    "df = df.astype(np.float16)\n",
    "for ind, (_, row) in tqdm(enumerate(df.iterrows())):\n",
    "    # if i == 3:\n",
    "    #     break\n",
    "    # i += 1\n",
    "    # val = vecs[row != 0]\n",
    "    # dataset.extend(np.concatenate((np.broadcast_to(user_vec[ind], (val.shape[0], user_vec.shape[1])), val), axis=1))\n",
    "    # target.extend(row[row != 0])\n",
    "    val = vecs[row != 0].astype(np.float16)\n",
    "    # value = np.concatenate((np.broadcast_to(df.iloc[ind], (val.shape[0], df.shape[1])), val), axis=1)\n",
    "    # print(value.shape)\n",
    "    dataset.extend(np.concatenate((np.broadcast_to(df.iloc[ind], (val.shape[0], df.shape[1])), val), axis=1))\n",
    "    target.extend(row[row != 0])"
   ]
  },
  {
   "cell_type": "code",
   "execution_count": 8,
   "id": "3d7b90f8-54a5-421c-b5d4-d239bbe12898",
   "metadata": {},
   "outputs": [],
   "source": [
    "dataset = np.asarray(dataset)\n",
    "target = np.asarray(target)"
   ]
  },
  {
   "cell_type": "code",
   "execution_count": 9,
   "id": "7c4538b6-a40f-417f-8853-d03805530212",
   "metadata": {},
   "outputs": [
    {
     "data": {
      "text/plain": [
       "((6085219, 168), (6085219,))"
      ]
     },
     "execution_count": 9,
     "metadata": {},
     "output_type": "execute_result"
    }
   ],
   "source": [
    "dataset.shape, target.shape"
   ]
  },
  {
   "cell_type": "code",
   "execution_count": 10,
   "id": "a42a4764-8784-4df7-ba5c-1f36eb7496d5",
   "metadata": {},
   "outputs": [],
   "source": [
    "# X_train, X_test, y_train, y_test = train_test_split(dataset, target, test_size=0.4)"
   ]
  },
  {
   "cell_type": "code",
   "execution_count": 72,
   "id": "8e75fb56-176e-42cf-ae25-fb991193d432",
   "metadata": {},
   "outputs": [],
   "source": [
    "X_train, X_test, y_train, y_test = train_test_split(dataset, target, test_size=0.3)"
   ]
  },
  {
   "cell_type": "code",
   "execution_count": 73,
   "id": "2e67a8a0-d2d7-40d8-a386-1198c947eb03",
   "metadata": {},
   "outputs": [],
   "source": [
    "X_train_meta, X_test, y_train_meta, y_test = train_test_split(X_test, y_test, test_size=0.3)"
   ]
  },
  {
   "cell_type": "code",
   "execution_count": 74,
   "id": "a95b4cc9-c8dd-4fd3-b139-8b4e862792bb",
   "metadata": {},
   "outputs": [],
   "source": [
    "X_train, X_tune, y_train, y_tune = train_test_split(X_train, y_train, test_size=0.1)"
   ]
  },
  {
   "cell_type": "code",
   "execution_count": 40,
   "id": "227f0ca1-fb1b-4b69-8228-362fad6989c4",
   "metadata": {
    "tags": []
   },
   "outputs": [
    {
     "name": "stdout",
     "output_type": "stream",
     "text": [
      "Fitting 3 folds for each of 10 candidates, totalling 30 fits\n"
     ]
    },
    {
     "data": {
      "text/html": [
       "<style>#sk-container-id-4 {color: black;background-color: white;}#sk-container-id-4 pre{padding: 0;}#sk-container-id-4 div.sk-toggleable {background-color: white;}#sk-container-id-4 label.sk-toggleable__label {cursor: pointer;display: block;width: 100%;margin-bottom: 0;padding: 0.3em;box-sizing: border-box;text-align: center;}#sk-container-id-4 label.sk-toggleable__label-arrow:before {content: \"▸\";float: left;margin-right: 0.25em;color: #696969;}#sk-container-id-4 label.sk-toggleable__label-arrow:hover:before {color: black;}#sk-container-id-4 div.sk-estimator:hover label.sk-toggleable__label-arrow:before {color: black;}#sk-container-id-4 div.sk-toggleable__content {max-height: 0;max-width: 0;overflow: hidden;text-align: left;background-color: #f0f8ff;}#sk-container-id-4 div.sk-toggleable__content pre {margin: 0.2em;color: black;border-radius: 0.25em;background-color: #f0f8ff;}#sk-container-id-4 input.sk-toggleable__control:checked~div.sk-toggleable__content {max-height: 200px;max-width: 100%;overflow: auto;}#sk-container-id-4 input.sk-toggleable__control:checked~label.sk-toggleable__label-arrow:before {content: \"▾\";}#sk-container-id-4 div.sk-estimator input.sk-toggleable__control:checked~label.sk-toggleable__label {background-color: #d4ebff;}#sk-container-id-4 div.sk-label input.sk-toggleable__control:checked~label.sk-toggleable__label {background-color: #d4ebff;}#sk-container-id-4 input.sk-hidden--visually {border: 0;clip: rect(1px 1px 1px 1px);clip: rect(1px, 1px, 1px, 1px);height: 1px;margin: -1px;overflow: hidden;padding: 0;position: absolute;width: 1px;}#sk-container-id-4 div.sk-estimator {font-family: monospace;background-color: #f0f8ff;border: 1px dotted black;border-radius: 0.25em;box-sizing: border-box;margin-bottom: 0.5em;}#sk-container-id-4 div.sk-estimator:hover {background-color: #d4ebff;}#sk-container-id-4 div.sk-parallel-item::after {content: \"\";width: 100%;border-bottom: 1px solid gray;flex-grow: 1;}#sk-container-id-4 div.sk-label:hover label.sk-toggleable__label {background-color: #d4ebff;}#sk-container-id-4 div.sk-serial::before {content: \"\";position: absolute;border-left: 1px solid gray;box-sizing: border-box;top: 0;bottom: 0;left: 50%;z-index: 0;}#sk-container-id-4 div.sk-serial {display: flex;flex-direction: column;align-items: center;background-color: white;padding-right: 0.2em;padding-left: 0.2em;position: relative;}#sk-container-id-4 div.sk-item {position: relative;z-index: 1;}#sk-container-id-4 div.sk-parallel {display: flex;align-items: stretch;justify-content: center;background-color: white;position: relative;}#sk-container-id-4 div.sk-item::before, #sk-container-id-4 div.sk-parallel-item::before {content: \"\";position: absolute;border-left: 1px solid gray;box-sizing: border-box;top: 0;bottom: 0;left: 50%;z-index: -1;}#sk-container-id-4 div.sk-parallel-item {display: flex;flex-direction: column;z-index: 1;position: relative;background-color: white;}#sk-container-id-4 div.sk-parallel-item:first-child::after {align-self: flex-end;width: 50%;}#sk-container-id-4 div.sk-parallel-item:last-child::after {align-self: flex-start;width: 50%;}#sk-container-id-4 div.sk-parallel-item:only-child::after {width: 0;}#sk-container-id-4 div.sk-dashed-wrapped {border: 1px dashed gray;margin: 0 0.4em 0.5em 0.4em;box-sizing: border-box;padding-bottom: 0.4em;background-color: white;}#sk-container-id-4 div.sk-label label {font-family: monospace;font-weight: bold;display: inline-block;line-height: 1.2em;}#sk-container-id-4 div.sk-label-container {text-align: center;}#sk-container-id-4 div.sk-container {/* jupyter's `normalize.less` sets `[hidden] { display: none; }` but bootstrap.min.css set `[hidden] { display: none !important; }` so we also need the `!important` here to be able to override the default hidden behavior on the sphinx rendered scikit-learn.org. See: https://github.com/scikit-learn/scikit-learn/issues/21755 */display: inline-block !important;position: relative;}#sk-container-id-4 div.sk-text-repr-fallback {display: none;}</style><div id=\"sk-container-id-4\" class=\"sk-top-container\"><div class=\"sk-text-repr-fallback\"><pre>GridSearchCV(cv=3, estimator=Ridge(),\n",
       "             param_grid={&#x27;alpha&#x27;: array([1.0000e-06, 1.1112e-02, 2.2223e-02, 3.3334e-02, 4.4445e-02,\n",
       "       5.5556e-02, 6.6667e-02, 7.7778e-02, 8.8889e-02, 1.0000e-01])},\n",
       "             scoring=&#x27;neg_mean_squared_error&#x27;, verbose=1)</pre><b>In a Jupyter environment, please rerun this cell to show the HTML representation or trust the notebook. <br />On GitHub, the HTML representation is unable to render, please try loading this page with nbviewer.org.</b></div><div class=\"sk-container\" hidden><div class=\"sk-item sk-dashed-wrapped\"><div class=\"sk-label-container\"><div class=\"sk-label sk-toggleable\"><input class=\"sk-toggleable__control sk-hidden--visually\" id=\"sk-estimator-id-10\" type=\"checkbox\" ><label for=\"sk-estimator-id-10\" class=\"sk-toggleable__label sk-toggleable__label-arrow\">GridSearchCV</label><div class=\"sk-toggleable__content\"><pre>GridSearchCV(cv=3, estimator=Ridge(),\n",
       "             param_grid={&#x27;alpha&#x27;: array([1.0000e-06, 1.1112e-02, 2.2223e-02, 3.3334e-02, 4.4445e-02,\n",
       "       5.5556e-02, 6.6667e-02, 7.7778e-02, 8.8889e-02, 1.0000e-01])},\n",
       "             scoring=&#x27;neg_mean_squared_error&#x27;, verbose=1)</pre></div></div></div><div class=\"sk-parallel\"><div class=\"sk-parallel-item\"><div class=\"sk-item\"><div class=\"sk-label-container\"><div class=\"sk-label sk-toggleable\"><input class=\"sk-toggleable__control sk-hidden--visually\" id=\"sk-estimator-id-11\" type=\"checkbox\" ><label for=\"sk-estimator-id-11\" class=\"sk-toggleable__label sk-toggleable__label-arrow\">estimator: Ridge</label><div class=\"sk-toggleable__content\"><pre>Ridge()</pre></div></div></div><div class=\"sk-serial\"><div class=\"sk-item\"><div class=\"sk-estimator sk-toggleable\"><input class=\"sk-toggleable__control sk-hidden--visually\" id=\"sk-estimator-id-12\" type=\"checkbox\" ><label for=\"sk-estimator-id-12\" class=\"sk-toggleable__label sk-toggleable__label-arrow\">Ridge</label><div class=\"sk-toggleable__content\"><pre>Ridge()</pre></div></div></div></div></div></div></div></div></div></div>"
      ],
      "text/plain": [
       "GridSearchCV(cv=3, estimator=Ridge(),\n",
       "             param_grid={'alpha': array([1.0000e-06, 1.1112e-02, 2.2223e-02, 3.3334e-02, 4.4445e-02,\n",
       "       5.5556e-02, 6.6667e-02, 7.7778e-02, 8.8889e-02, 1.0000e-01])},\n",
       "             scoring='neg_mean_squared_error', verbose=1)"
      ]
     },
     "execution_count": 40,
     "metadata": {},
     "output_type": "execute_result"
    }
   ],
   "source": [
    "params = {'alpha': np.linspace(1e-6, 1e-1, 10)}\n",
    "gs = GridSearchCV(Ridge(),\n",
    "                      param_grid=params,\n",
    "                      scoring='neg_mean_squared_error',\n",
    "                      verbose=1,\n",
    "                      cv=3)\n",
    "gs.fit(X_tune, y_tune)"
   ]
  },
  {
   "cell_type": "code",
   "execution_count": 41,
   "id": "8f19cdfd-097a-4ccc-a9de-85838ba4847b",
   "metadata": {},
   "outputs": [
    {
     "data": {
      "text/plain": [
       "({'alpha': 0.033334}, -0.915946368656039)"
      ]
     },
     "execution_count": 41,
     "metadata": {},
     "output_type": "execute_result"
    }
   ],
   "source": [
    "gs.best_params_, gs.best_score_"
   ]
  },
  {
   "cell_type": "code",
   "execution_count": 29,
   "id": "87c6edc2-d326-4ffb-80d5-73131194ab5c",
   "metadata": {},
   "outputs": [
    {
     "data": {
      "text/plain": [
       "0.9320947675193284"
      ]
     },
     "execution_count": 29,
     "metadata": {},
     "output_type": "execute_result"
    }
   ],
   "source": [
    "reg1 = Ridge(alpha=0.033334)\n",
    "reg1.fit(X_train, y_train)\n",
    "rmse(y_test, reg1.predict(X_test))"
   ]
  },
  {
   "cell_type": "code",
   "execution_count": 30,
   "id": "55396505-9a6d-409a-9a84-cc8da40844eb",
   "metadata": {},
   "outputs": [
    {
     "data": {
      "text/plain": [
       "0.17257679191046627"
      ]
     },
     "execution_count": 30,
     "metadata": {},
     "output_type": "execute_result"
    }
   ],
   "source": [
    "r2_score(y_test, reg1.predict(X_test))"
   ]
  },
  {
   "cell_type": "code",
   "execution_count": 31,
   "id": "4d8831ea-31ed-49b9-8539-c0bd65b7a3c8",
   "metadata": {},
   "outputs": [],
   "source": [
    "# with open(r\"C:\\Users\\vdtri\\Documents\\Учеба\\Рекомендательные системы\\proj\\models\\reg1\", 'wb') as f:\n",
    "#     pickle.dump(reg1, f)"
   ]
  },
  {
   "cell_type": "code",
   "execution_count": 45,
   "id": "ef483e42-41ea-4ddc-a5ee-effa7374bb79",
   "metadata": {},
   "outputs": [
    {
     "name": "stdout",
     "output_type": "stream",
     "text": [
      "Fitting 3 folds for each of 9 candidates, totalling 27 fits\n",
      "[CV] END .......................max_depth=3, n_estimators=50; total time=  14.9s\n",
      "[CV] END .......................max_depth=3, n_estimators=50; total time=  16.3s\n",
      "[CV] END .......................max_depth=3, n_estimators=50; total time=  17.1s\n",
      "[CV] END ......................max_depth=3, n_estimators=100; total time=  31.3s\n",
      "[CV] END ......................max_depth=3, n_estimators=100; total time=  31.3s\n",
      "[CV] END ......................max_depth=3, n_estimators=100; total time=  30.9s\n",
      "[CV] END ......................max_depth=3, n_estimators=200; total time=  59.5s\n",
      "[CV] END ......................max_depth=3, n_estimators=200; total time=  59.7s\n",
      "[CV] END ......................max_depth=3, n_estimators=200; total time=  59.6s\n",
      "[CV] END .......................max_depth=4, n_estimators=50; total time=  21.5s\n",
      "[CV] END .......................max_depth=4, n_estimators=50; total time=  21.4s\n",
      "[CV] END .......................max_depth=4, n_estimators=50; total time=  20.9s\n",
      "[CV] END ......................max_depth=4, n_estimators=100; total time=  39.7s\n",
      "[CV] END ......................max_depth=4, n_estimators=100; total time=  39.8s\n",
      "[CV] END ......................max_depth=4, n_estimators=100; total time=  39.8s\n",
      "[CV] END ......................max_depth=4, n_estimators=200; total time= 1.3min\n",
      "[CV] END ......................max_depth=4, n_estimators=200; total time= 1.3min\n",
      "[CV] END ......................max_depth=4, n_estimators=200; total time= 1.3min\n",
      "[CV] END .......................max_depth=5, n_estimators=50; total time=  25.9s\n",
      "[CV] END .......................max_depth=5, n_estimators=50; total time=  25.8s\n",
      "[CV] END .......................max_depth=5, n_estimators=50; total time=  26.0s\n",
      "[CV] END ......................max_depth=5, n_estimators=100; total time=  49.9s\n",
      "[CV] END ......................max_depth=5, n_estimators=100; total time=  50.2s\n",
      "[CV] END ......................max_depth=5, n_estimators=100; total time=  53.6s\n",
      "[CV] END ......................max_depth=5, n_estimators=200; total time= 1.6min\n",
      "[CV] END ......................max_depth=5, n_estimators=200; total time= 1.5min\n",
      "[CV] END ......................max_depth=5, n_estimators=200; total time= 1.4min\n"
     ]
    },
    {
     "data": {
      "text/html": [
       "<style>#sk-container-id-5 {color: black;background-color: white;}#sk-container-id-5 pre{padding: 0;}#sk-container-id-5 div.sk-toggleable {background-color: white;}#sk-container-id-5 label.sk-toggleable__label {cursor: pointer;display: block;width: 100%;margin-bottom: 0;padding: 0.3em;box-sizing: border-box;text-align: center;}#sk-container-id-5 label.sk-toggleable__label-arrow:before {content: \"▸\";float: left;margin-right: 0.25em;color: #696969;}#sk-container-id-5 label.sk-toggleable__label-arrow:hover:before {color: black;}#sk-container-id-5 div.sk-estimator:hover label.sk-toggleable__label-arrow:before {color: black;}#sk-container-id-5 div.sk-toggleable__content {max-height: 0;max-width: 0;overflow: hidden;text-align: left;background-color: #f0f8ff;}#sk-container-id-5 div.sk-toggleable__content pre {margin: 0.2em;color: black;border-radius: 0.25em;background-color: #f0f8ff;}#sk-container-id-5 input.sk-toggleable__control:checked~div.sk-toggleable__content {max-height: 200px;max-width: 100%;overflow: auto;}#sk-container-id-5 input.sk-toggleable__control:checked~label.sk-toggleable__label-arrow:before {content: \"▾\";}#sk-container-id-5 div.sk-estimator input.sk-toggleable__control:checked~label.sk-toggleable__label {background-color: #d4ebff;}#sk-container-id-5 div.sk-label input.sk-toggleable__control:checked~label.sk-toggleable__label {background-color: #d4ebff;}#sk-container-id-5 input.sk-hidden--visually {border: 0;clip: rect(1px 1px 1px 1px);clip: rect(1px, 1px, 1px, 1px);height: 1px;margin: -1px;overflow: hidden;padding: 0;position: absolute;width: 1px;}#sk-container-id-5 div.sk-estimator {font-family: monospace;background-color: #f0f8ff;border: 1px dotted black;border-radius: 0.25em;box-sizing: border-box;margin-bottom: 0.5em;}#sk-container-id-5 div.sk-estimator:hover {background-color: #d4ebff;}#sk-container-id-5 div.sk-parallel-item::after {content: \"\";width: 100%;border-bottom: 1px solid gray;flex-grow: 1;}#sk-container-id-5 div.sk-label:hover label.sk-toggleable__label {background-color: #d4ebff;}#sk-container-id-5 div.sk-serial::before {content: \"\";position: absolute;border-left: 1px solid gray;box-sizing: border-box;top: 0;bottom: 0;left: 50%;z-index: 0;}#sk-container-id-5 div.sk-serial {display: flex;flex-direction: column;align-items: center;background-color: white;padding-right: 0.2em;padding-left: 0.2em;position: relative;}#sk-container-id-5 div.sk-item {position: relative;z-index: 1;}#sk-container-id-5 div.sk-parallel {display: flex;align-items: stretch;justify-content: center;background-color: white;position: relative;}#sk-container-id-5 div.sk-item::before, #sk-container-id-5 div.sk-parallel-item::before {content: \"\";position: absolute;border-left: 1px solid gray;box-sizing: border-box;top: 0;bottom: 0;left: 50%;z-index: -1;}#sk-container-id-5 div.sk-parallel-item {display: flex;flex-direction: column;z-index: 1;position: relative;background-color: white;}#sk-container-id-5 div.sk-parallel-item:first-child::after {align-self: flex-end;width: 50%;}#sk-container-id-5 div.sk-parallel-item:last-child::after {align-self: flex-start;width: 50%;}#sk-container-id-5 div.sk-parallel-item:only-child::after {width: 0;}#sk-container-id-5 div.sk-dashed-wrapped {border: 1px dashed gray;margin: 0 0.4em 0.5em 0.4em;box-sizing: border-box;padding-bottom: 0.4em;background-color: white;}#sk-container-id-5 div.sk-label label {font-family: monospace;font-weight: bold;display: inline-block;line-height: 1.2em;}#sk-container-id-5 div.sk-label-container {text-align: center;}#sk-container-id-5 div.sk-container {/* jupyter's `normalize.less` sets `[hidden] { display: none; }` but bootstrap.min.css set `[hidden] { display: none !important; }` so we also need the `!important` here to be able to override the default hidden behavior on the sphinx rendered scikit-learn.org. See: https://github.com/scikit-learn/scikit-learn/issues/21755 */display: inline-block !important;position: relative;}#sk-container-id-5 div.sk-text-repr-fallback {display: none;}</style><div id=\"sk-container-id-5\" class=\"sk-top-container\"><div class=\"sk-text-repr-fallback\"><pre>GridSearchCV(cv=3,\n",
       "             estimator=XGBRegressor(base_score=None, booster=None,\n",
       "                                    callbacks=None, colsample_bylevel=None,\n",
       "                                    colsample_bynode=None,\n",
       "                                    colsample_bytree=None,\n",
       "                                    early_stopping_rounds=None,\n",
       "                                    enable_categorical=False, eval_metric=None,\n",
       "                                    gamma=None, gpu_id=None, grow_policy=None,\n",
       "                                    importance_type=None,\n",
       "                                    interaction_constraints=None,\n",
       "                                    learning_rate=None, max_bin=None,\n",
       "                                    max_cat_to_onehot=None, max_delta_step=None,\n",
       "                                    max_depth=None, max_leaves=None,\n",
       "                                    min_child_weight=None, missing=nan,\n",
       "                                    monotone_constraints=None, n_estimators=100,\n",
       "                                    n_jobs=None, num_parallel_tree=None,\n",
       "                                    predictor=None, random_state=None,\n",
       "                                    reg_alpha=None, reg_lambda=None, ...),\n",
       "             param_grid={&#x27;max_depth&#x27;: [3, 4, 5],\n",
       "                         &#x27;n_estimators&#x27;: [50, 100, 200]},\n",
       "             scoring=&#x27;neg_mean_squared_error&#x27;, verbose=2)</pre><b>In a Jupyter environment, please rerun this cell to show the HTML representation or trust the notebook. <br />On GitHub, the HTML representation is unable to render, please try loading this page with nbviewer.org.</b></div><div class=\"sk-container\" hidden><div class=\"sk-item sk-dashed-wrapped\"><div class=\"sk-label-container\"><div class=\"sk-label sk-toggleable\"><input class=\"sk-toggleable__control sk-hidden--visually\" id=\"sk-estimator-id-13\" type=\"checkbox\" ><label for=\"sk-estimator-id-13\" class=\"sk-toggleable__label sk-toggleable__label-arrow\">GridSearchCV</label><div class=\"sk-toggleable__content\"><pre>GridSearchCV(cv=3,\n",
       "             estimator=XGBRegressor(base_score=None, booster=None,\n",
       "                                    callbacks=None, colsample_bylevel=None,\n",
       "                                    colsample_bynode=None,\n",
       "                                    colsample_bytree=None,\n",
       "                                    early_stopping_rounds=None,\n",
       "                                    enable_categorical=False, eval_metric=None,\n",
       "                                    gamma=None, gpu_id=None, grow_policy=None,\n",
       "                                    importance_type=None,\n",
       "                                    interaction_constraints=None,\n",
       "                                    learning_rate=None, max_bin=None,\n",
       "                                    max_cat_to_onehot=None, max_delta_step=None,\n",
       "                                    max_depth=None, max_leaves=None,\n",
       "                                    min_child_weight=None, missing=nan,\n",
       "                                    monotone_constraints=None, n_estimators=100,\n",
       "                                    n_jobs=None, num_parallel_tree=None,\n",
       "                                    predictor=None, random_state=None,\n",
       "                                    reg_alpha=None, reg_lambda=None, ...),\n",
       "             param_grid={&#x27;max_depth&#x27;: [3, 4, 5],\n",
       "                         &#x27;n_estimators&#x27;: [50, 100, 200]},\n",
       "             scoring=&#x27;neg_mean_squared_error&#x27;, verbose=2)</pre></div></div></div><div class=\"sk-parallel\"><div class=\"sk-parallel-item\"><div class=\"sk-item\"><div class=\"sk-label-container\"><div class=\"sk-label sk-toggleable\"><input class=\"sk-toggleable__control sk-hidden--visually\" id=\"sk-estimator-id-14\" type=\"checkbox\" ><label for=\"sk-estimator-id-14\" class=\"sk-toggleable__label sk-toggleable__label-arrow\">estimator: XGBRegressor</label><div class=\"sk-toggleable__content\"><pre>XGBRegressor(base_score=None, booster=None, callbacks=None,\n",
       "             colsample_bylevel=None, colsample_bynode=None,\n",
       "             colsample_bytree=None, early_stopping_rounds=None,\n",
       "             enable_categorical=False, eval_metric=None, gamma=None,\n",
       "             gpu_id=None, grow_policy=None, importance_type=None,\n",
       "             interaction_constraints=None, learning_rate=None, max_bin=None,\n",
       "             max_cat_to_onehot=None, max_delta_step=None, max_depth=None,\n",
       "             max_leaves=None, min_child_weight=None, missing=nan,\n",
       "             monotone_constraints=None, n_estimators=100, n_jobs=None,\n",
       "             num_parallel_tree=None, predictor=None, random_state=None,\n",
       "             reg_alpha=None, reg_lambda=None, ...)</pre></div></div></div><div class=\"sk-serial\"><div class=\"sk-item\"><div class=\"sk-estimator sk-toggleable\"><input class=\"sk-toggleable__control sk-hidden--visually\" id=\"sk-estimator-id-15\" type=\"checkbox\" ><label for=\"sk-estimator-id-15\" class=\"sk-toggleable__label sk-toggleable__label-arrow\">XGBRegressor</label><div class=\"sk-toggleable__content\"><pre>XGBRegressor(base_score=None, booster=None, callbacks=None,\n",
       "             colsample_bylevel=None, colsample_bynode=None,\n",
       "             colsample_bytree=None, early_stopping_rounds=None,\n",
       "             enable_categorical=False, eval_metric=None, gamma=None,\n",
       "             gpu_id=None, grow_policy=None, importance_type=None,\n",
       "             interaction_constraints=None, learning_rate=None, max_bin=None,\n",
       "             max_cat_to_onehot=None, max_delta_step=None, max_depth=None,\n",
       "             max_leaves=None, min_child_weight=None, missing=nan,\n",
       "             monotone_constraints=None, n_estimators=100, n_jobs=None,\n",
       "             num_parallel_tree=None, predictor=None, random_state=None,\n",
       "             reg_alpha=None, reg_lambda=None, ...)</pre></div></div></div></div></div></div></div></div></div></div>"
      ],
      "text/plain": [
       "GridSearchCV(cv=3,\n",
       "             estimator=XGBRegressor(base_score=None, booster=None,\n",
       "                                    callbacks=None, colsample_bylevel=None,\n",
       "                                    colsample_bynode=None,\n",
       "                                    colsample_bytree=None,\n",
       "                                    early_stopping_rounds=None,\n",
       "                                    enable_categorical=False, eval_metric=None,\n",
       "                                    gamma=None, gpu_id=None, grow_policy=None,\n",
       "                                    importance_type=None,\n",
       "                                    interaction_constraints=None,\n",
       "                                    learning_rate=None, max_bin=None,\n",
       "                                    max_cat_to_onehot=None, max_delta_step=None,\n",
       "                                    max_depth=None, max_leaves=None,\n",
       "                                    min_child_weight=None, missing=nan,\n",
       "                                    monotone_constraints=None, n_estimators=100,\n",
       "                                    n_jobs=None, num_parallel_tree=None,\n",
       "                                    predictor=None, random_state=None,\n",
       "                                    reg_alpha=None, reg_lambda=None, ...),\n",
       "             param_grid={'max_depth': [3, 4, 5],\n",
       "                         'n_estimators': [50, 100, 200]},\n",
       "             scoring='neg_mean_squared_error', verbose=2)"
      ]
     },
     "execution_count": 45,
     "metadata": {},
     "output_type": "execute_result"
    }
   ],
   "source": [
    "import xgboost\n",
    "\n",
    "params = {'n_estimators': [50, 100, 200],\n",
    "              'max_depth': [3, 4, 5]\n",
    "}\n",
    "gs = GridSearchCV(xgboost.XGBRegressor(),\n",
    "                      param_grid=params,\n",
    "                      scoring='neg_mean_squared_error',\n",
    "                      verbose=2,\n",
    "                      cv=3)\n",
    "gs.fit(X_tune, y_tune)"
   ]
  },
  {
   "cell_type": "code",
   "execution_count": 46,
   "id": "a7820c88-4373-49bf-bff4-f317aff48c1e",
   "metadata": {},
   "outputs": [
    {
     "data": {
      "text/plain": [
       "({'max_depth': 5, 'n_estimators': 200}, -0.26919474204381305)"
      ]
     },
     "execution_count": 46,
     "metadata": {},
     "output_type": "execute_result"
    }
   ],
   "source": [
    "gs.best_params_, gs.best_score_"
   ]
  },
  {
   "cell_type": "code",
   "execution_count": 18,
   "id": "310e7aba-c218-4351-8ba8-8f85ad107a00",
   "metadata": {},
   "outputs": [
    {
     "data": {
      "text/plain": [
       "0.2654413449409745"
      ]
     },
     "execution_count": 18,
     "metadata": {},
     "output_type": "execute_result"
    }
   ],
   "source": [
    "import xgboost\n",
    "\n",
    "reg2 = xgboost.XGBRegressor(n_estimators=200, max_depth=5, verbosity=2, \n",
    "                            tree_method=\"gpu_hist\")\n",
    "reg2.fit(X_train, y_train)\n",
    "rmse(y_test, reg2.predict(X_test))"
   ]
  },
  {
   "cell_type": "code",
   "execution_count": 19,
   "id": "c0114a1f-067c-4253-b040-153d6b6e5a2f",
   "metadata": {},
   "outputs": [
    {
     "data": {
      "text/plain": [
       "0.7643669540435359"
      ]
     },
     "execution_count": 19,
     "metadata": {},
     "output_type": "execute_result"
    }
   ],
   "source": [
    "r2_score(y_test, reg2.predict(X_test))"
   ]
  },
  {
   "cell_type": "code",
   "execution_count": 20,
   "id": "d75864e5-a23b-45ca-af60-4f3fecc33fdc",
   "metadata": {},
   "outputs": [],
   "source": [
    "# with open(r\"C:\\Users\\vdtri\\Documents\\Учеба\\Рекомендательные системы\\proj\\models\\reg2\", 'wb') as f:\n",
    "#     pickle.dump(reg2, f)"
   ]
  },
  {
   "cell_type": "code",
   "execution_count": null,
   "id": "48e7cdd8-af81-4dbf-a112-edf1b79c4be4",
   "metadata": {},
   "outputs": [],
   "source": [
    "params = {'max_depth': [i * 2 for i in range(7)]}\n",
    "gs = GridSearchCV(DecisionTreeRegressor(),\n",
    "                      param_grid=params,\n",
    "                      scoring='neg_mean_squared_error',\n",
    "                      verbose=2,\n",
    "                      cv=3)\n",
    "gs.fit(X_tune, y_tune)\n",
    "gs.best_params_"
   ]
  },
  {
   "cell_type": "code",
   "execution_count": 26,
   "id": "e5681436-f8d2-4de5-8f6b-3cc723b7f271",
   "metadata": {},
   "outputs": [
    {
     "data": {
      "text/plain": [
       "0.8589640691403053"
      ]
     },
     "execution_count": 26,
     "metadata": {},
     "output_type": "execute_result"
    }
   ],
   "source": [
    "reg3 = DecisionTreeRegressor(max_depth=10)\n",
    "reg3.fit(X_train, y_train)\n",
    "rmse(y_test, reg3.predict(X_test))"
   ]
  },
  {
   "cell_type": "code",
   "execution_count": 27,
   "id": "e2089161-1591-45e2-8f85-ae2611405ead",
   "metadata": {},
   "outputs": [
    {
     "data": {
      "text/plain": [
       "0.2374951233625786"
      ]
     },
     "execution_count": 27,
     "metadata": {},
     "output_type": "execute_result"
    }
   ],
   "source": [
    "r2_score(y_test, reg3.predict(X_test))"
   ]
  },
  {
   "cell_type": "code",
   "execution_count": 28,
   "id": "4045d1e2-eb26-47a6-b7af-07bc5fb8ff20",
   "metadata": {},
   "outputs": [],
   "source": [
    "# with open(r\"C:\\Users\\vdtri\\Documents\\Учеба\\Рекомендательные системы\\proj\\models\\reg3\", 'wb') as f:\n",
    "#     pickle.dump(reg3, f)"
   ]
  },
  {
   "cell_type": "code",
   "execution_count": 41,
   "id": "7e65fc5a-90c2-4bf8-83f0-21282d2c0db2",
   "metadata": {},
   "outputs": [],
   "source": [
    "r1 = np.array([reg1.predict(X_train_meta)]).reshape(-1, 1)\n",
    "r2 = np.array([reg2.predict(X_train_meta)]).reshape(-1, 1)\n",
    "r3 = np.array([reg3.predict(X_train_meta)]).reshape(-1, 1)\n",
    "X_meta = np.concatenate((r1, r2, r3), axis=1)"
   ]
  },
  {
   "cell_type": "code",
   "execution_count": 42,
   "id": "554667d9-43e5-4640-9d6d-802bdbe48982",
   "metadata": {},
   "outputs": [
    {
     "data": {
      "text/html": [
       "<style>#sk-container-id-1 {color: black;background-color: white;}#sk-container-id-1 pre{padding: 0;}#sk-container-id-1 div.sk-toggleable {background-color: white;}#sk-container-id-1 label.sk-toggleable__label {cursor: pointer;display: block;width: 100%;margin-bottom: 0;padding: 0.3em;box-sizing: border-box;text-align: center;}#sk-container-id-1 label.sk-toggleable__label-arrow:before {content: \"▸\";float: left;margin-right: 0.25em;color: #696969;}#sk-container-id-1 label.sk-toggleable__label-arrow:hover:before {color: black;}#sk-container-id-1 div.sk-estimator:hover label.sk-toggleable__label-arrow:before {color: black;}#sk-container-id-1 div.sk-toggleable__content {max-height: 0;max-width: 0;overflow: hidden;text-align: left;background-color: #f0f8ff;}#sk-container-id-1 div.sk-toggleable__content pre {margin: 0.2em;color: black;border-radius: 0.25em;background-color: #f0f8ff;}#sk-container-id-1 input.sk-toggleable__control:checked~div.sk-toggleable__content {max-height: 200px;max-width: 100%;overflow: auto;}#sk-container-id-1 input.sk-toggleable__control:checked~label.sk-toggleable__label-arrow:before {content: \"▾\";}#sk-container-id-1 div.sk-estimator input.sk-toggleable__control:checked~label.sk-toggleable__label {background-color: #d4ebff;}#sk-container-id-1 div.sk-label input.sk-toggleable__control:checked~label.sk-toggleable__label {background-color: #d4ebff;}#sk-container-id-1 input.sk-hidden--visually {border: 0;clip: rect(1px 1px 1px 1px);clip: rect(1px, 1px, 1px, 1px);height: 1px;margin: -1px;overflow: hidden;padding: 0;position: absolute;width: 1px;}#sk-container-id-1 div.sk-estimator {font-family: monospace;background-color: #f0f8ff;border: 1px dotted black;border-radius: 0.25em;box-sizing: border-box;margin-bottom: 0.5em;}#sk-container-id-1 div.sk-estimator:hover {background-color: #d4ebff;}#sk-container-id-1 div.sk-parallel-item::after {content: \"\";width: 100%;border-bottom: 1px solid gray;flex-grow: 1;}#sk-container-id-1 div.sk-label:hover label.sk-toggleable__label {background-color: #d4ebff;}#sk-container-id-1 div.sk-serial::before {content: \"\";position: absolute;border-left: 1px solid gray;box-sizing: border-box;top: 0;bottom: 0;left: 50%;z-index: 0;}#sk-container-id-1 div.sk-serial {display: flex;flex-direction: column;align-items: center;background-color: white;padding-right: 0.2em;padding-left: 0.2em;position: relative;}#sk-container-id-1 div.sk-item {position: relative;z-index: 1;}#sk-container-id-1 div.sk-parallel {display: flex;align-items: stretch;justify-content: center;background-color: white;position: relative;}#sk-container-id-1 div.sk-item::before, #sk-container-id-1 div.sk-parallel-item::before {content: \"\";position: absolute;border-left: 1px solid gray;box-sizing: border-box;top: 0;bottom: 0;left: 50%;z-index: -1;}#sk-container-id-1 div.sk-parallel-item {display: flex;flex-direction: column;z-index: 1;position: relative;background-color: white;}#sk-container-id-1 div.sk-parallel-item:first-child::after {align-self: flex-end;width: 50%;}#sk-container-id-1 div.sk-parallel-item:last-child::after {align-self: flex-start;width: 50%;}#sk-container-id-1 div.sk-parallel-item:only-child::after {width: 0;}#sk-container-id-1 div.sk-dashed-wrapped {border: 1px dashed gray;margin: 0 0.4em 0.5em 0.4em;box-sizing: border-box;padding-bottom: 0.4em;background-color: white;}#sk-container-id-1 div.sk-label label {font-family: monospace;font-weight: bold;display: inline-block;line-height: 1.2em;}#sk-container-id-1 div.sk-label-container {text-align: center;}#sk-container-id-1 div.sk-container {/* jupyter's `normalize.less` sets `[hidden] { display: none; }` but bootstrap.min.css set `[hidden] { display: none !important; }` so we also need the `!important` here to be able to override the default hidden behavior on the sphinx rendered scikit-learn.org. See: https://github.com/scikit-learn/scikit-learn/issues/21755 */display: inline-block !important;position: relative;}#sk-container-id-1 div.sk-text-repr-fallback {display: none;}</style><div id=\"sk-container-id-1\" class=\"sk-top-container\"><div class=\"sk-text-repr-fallback\"><pre>LinearRegression()</pre><b>In a Jupyter environment, please rerun this cell to show the HTML representation or trust the notebook. <br />On GitHub, the HTML representation is unable to render, please try loading this page with nbviewer.org.</b></div><div class=\"sk-container\" hidden><div class=\"sk-item\"><div class=\"sk-estimator sk-toggleable\"><input class=\"sk-toggleable__control sk-hidden--visually\" id=\"sk-estimator-id-1\" type=\"checkbox\" checked><label for=\"sk-estimator-id-1\" class=\"sk-toggleable__label sk-toggleable__label-arrow\">LinearRegression</label><div class=\"sk-toggleable__content\"><pre>LinearRegression()</pre></div></div></div></div></div>"
      ],
      "text/plain": [
       "LinearRegression()"
      ]
     },
     "execution_count": 42,
     "metadata": {},
     "output_type": "execute_result"
    }
   ],
   "source": [
    "from sklearn.linear_model import LinearRegression\n",
    "\n",
    "reg = LinearRegression()\n",
    "reg.fit(X_meta, y_test)"
   ]
  },
  {
   "cell_type": "code",
   "execution_count": 43,
   "id": "6580df24-5245-4482-b524-ce0c8c50155f",
   "metadata": {},
   "outputs": [
    {
     "data": {
      "text/plain": [
       "array([-0.13178208,  1.24825735, -0.16800728])"
      ]
     },
     "execution_count": 43,
     "metadata": {},
     "output_type": "execute_result"
    }
   ],
   "source": [
    "reg.coef_"
   ]
  },
  {
   "cell_type": "code",
   "execution_count": 44,
   "id": "11fce662-584f-4768-ab31-74f108cae48e",
   "metadata": {},
   "outputs": [],
   "source": [
    "# with open(r\"C:\\Users\\vdtri\\Documents\\Учеба\\Рекомендательные системы\\proj\\models\\coef\", 'wb') as f:\n",
    "#     pickle.dump(reg.coef_, f)"
   ]
  },
  {
   "cell_type": "code",
   "execution_count": null,
   "id": "cc79cb14-2d60-4a63-82a2-1eefabb6555b",
   "metadata": {},
   "outputs": [],
   "source": []
  }
 ],
 "metadata": {
  "kernelspec": {
   "display_name": "Python 3 (ipykernel)",
   "language": "python",
   "name": "python3"
  },
  "language_info": {
   "codemirror_mode": {
    "name": "ipython",
    "version": 3
   },
   "file_extension": ".py",
   "mimetype": "text/x-python",
   "name": "python",
   "nbconvert_exporter": "python",
   "pygments_lexer": "ipython3",
   "version": "3.10.7"
  }
 },
 "nbformat": 4,
 "nbformat_minor": 5
}
