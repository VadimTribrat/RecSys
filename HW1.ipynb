{
 "cells": [
  {
   "cell_type": "markdown",
   "metadata": {
    "id": "Jj1ATLqc6d8B"
   },
   "source": [
    "Представим, что у нас есть небольшой онлайн-кинотеатр и мы хотим, чтобы пользователи были довольны и смотрели фильмы у нас, а не на других ресурсах. Создадим небольшую матрицу рейтингов наших фильмов, на основании оценок пользователей."
   ]
  },
  {
   "cell_type": "code",
   "execution_count": 1,
   "metadata": {
    "id": "ZZRDS3CH6d8H"
   },
   "outputs": [],
   "source": [
    "import numpy as np\n",
    "import matplotlib.pyplot as plt\n",
    "import pandas as pd\n",
    "%matplotlib inline"
   ]
  },
  {
   "cell_type": "code",
   "execution_count": 2,
   "metadata": {
    "id": "aHvFq9t06d8L"
   },
   "outputs": [],
   "source": [
    "#Названия фильмов\n",
    "f = ['Терминатор', 'Робокоп', 'Рэмбо', 'Джеймс Бонд','Властелин Колец', 'Хоббит', 'Гарри Поттер', \n",
    "     'Американский Пирог', 'Мальчишник в Вегасе', 'Мстители', 'Супермен'] "
   ]
  },
  {
   "cell_type": "code",
   "execution_count": 3,
   "metadata": {
    "id": "r_W4mDgm6d8M"
   },
   "outputs": [],
   "source": [
    "#Наши пользователи\n",
    "u = ['Вася','Петя','Саша','Женя','Маша','Оля','Лена','Ваня','Ира']"
   ]
  },
  {
   "cell_type": "code",
   "execution_count": 4,
   "metadata": {
    "id": "FPEIGhYT6d8N"
   },
   "outputs": [],
   "source": [
    "#Рейтинг фильмов от пользователей. 0 - значит фильм не был просмотрен.\n",
    "fu = np.array([[9,0,0,6,4,3,5,7,8,6,5],\n",
    "              [0,0,0,8,10,0,8,5,6,2,0],\n",
    "              [8,0,5,7,4,0,5,7,8,8,5],\n",
    "              [5,2,0,4,10,0,9,5,0,0,0],\n",
    "              [0,0,2,5,7,0,0,9,0,4,0],\n",
    "              [2,3,0,0,0,7,9,0,5,0,3],\n",
    "              [5,0,3,8,8,0,0,7,0,2,4],\n",
    "              [8,7,0,6,5,4,0,8,0,10,0],\n",
    "              [0,0,2,5,10,0,0,0,9,0,3]])"
   ]
  },
  {
   "cell_type": "code",
   "execution_count": 5,
   "metadata": {
    "id": "dyQ9quSv6d8O"
   },
   "outputs": [],
   "source": [
    "#Сделаем датафрейм из f,u и fu.\n",
    "R = pd.DataFrame(fu,u,f)"
   ]
  },
  {
   "cell_type": "code",
   "execution_count": 6,
   "metadata": {
    "colab": {
     "base_uri": "https://localhost:8080/",
     "height": 332
    },
    "id": "1n3OoGJT6d8Q",
    "outputId": "c45d6fa8-220a-4825-aaab-6a14ad7e9a9a"
   },
   "outputs": [
    {
     "data": {
      "text/html": [
       "<div>\n",
       "<style scoped>\n",
       "    .dataframe tbody tr th:only-of-type {\n",
       "        vertical-align: middle;\n",
       "    }\n",
       "\n",
       "    .dataframe tbody tr th {\n",
       "        vertical-align: top;\n",
       "    }\n",
       "\n",
       "    .dataframe thead th {\n",
       "        text-align: right;\n",
       "    }\n",
       "</style>\n",
       "<table border=\"1\" class=\"dataframe\">\n",
       "  <thead>\n",
       "    <tr style=\"text-align: right;\">\n",
       "      <th></th>\n",
       "      <th>Терминатор</th>\n",
       "      <th>Робокоп</th>\n",
       "      <th>Рэмбо</th>\n",
       "      <th>Джеймс Бонд</th>\n",
       "      <th>Властелин Колец</th>\n",
       "      <th>Хоббит</th>\n",
       "      <th>Гарри Поттер</th>\n",
       "      <th>Американский Пирог</th>\n",
       "      <th>Мальчишник в Вегасе</th>\n",
       "      <th>Мстители</th>\n",
       "      <th>Супермен</th>\n",
       "    </tr>\n",
       "  </thead>\n",
       "  <tbody>\n",
       "    <tr>\n",
       "      <th>Вася</th>\n",
       "      <td>9</td>\n",
       "      <td>0</td>\n",
       "      <td>0</td>\n",
       "      <td>6</td>\n",
       "      <td>4</td>\n",
       "      <td>3</td>\n",
       "      <td>5</td>\n",
       "      <td>7</td>\n",
       "      <td>8</td>\n",
       "      <td>6</td>\n",
       "      <td>5</td>\n",
       "    </tr>\n",
       "    <tr>\n",
       "      <th>Петя</th>\n",
       "      <td>0</td>\n",
       "      <td>0</td>\n",
       "      <td>0</td>\n",
       "      <td>8</td>\n",
       "      <td>10</td>\n",
       "      <td>0</td>\n",
       "      <td>8</td>\n",
       "      <td>5</td>\n",
       "      <td>6</td>\n",
       "      <td>2</td>\n",
       "      <td>0</td>\n",
       "    </tr>\n",
       "    <tr>\n",
       "      <th>Саша</th>\n",
       "      <td>8</td>\n",
       "      <td>0</td>\n",
       "      <td>5</td>\n",
       "      <td>7</td>\n",
       "      <td>4</td>\n",
       "      <td>0</td>\n",
       "      <td>5</td>\n",
       "      <td>7</td>\n",
       "      <td>8</td>\n",
       "      <td>8</td>\n",
       "      <td>5</td>\n",
       "    </tr>\n",
       "    <tr>\n",
       "      <th>Женя</th>\n",
       "      <td>5</td>\n",
       "      <td>2</td>\n",
       "      <td>0</td>\n",
       "      <td>4</td>\n",
       "      <td>10</td>\n",
       "      <td>0</td>\n",
       "      <td>9</td>\n",
       "      <td>5</td>\n",
       "      <td>0</td>\n",
       "      <td>0</td>\n",
       "      <td>0</td>\n",
       "    </tr>\n",
       "    <tr>\n",
       "      <th>Маша</th>\n",
       "      <td>0</td>\n",
       "      <td>0</td>\n",
       "      <td>2</td>\n",
       "      <td>5</td>\n",
       "      <td>7</td>\n",
       "      <td>0</td>\n",
       "      <td>0</td>\n",
       "      <td>9</td>\n",
       "      <td>0</td>\n",
       "      <td>4</td>\n",
       "      <td>0</td>\n",
       "    </tr>\n",
       "    <tr>\n",
       "      <th>Оля</th>\n",
       "      <td>2</td>\n",
       "      <td>3</td>\n",
       "      <td>0</td>\n",
       "      <td>0</td>\n",
       "      <td>0</td>\n",
       "      <td>7</td>\n",
       "      <td>9</td>\n",
       "      <td>0</td>\n",
       "      <td>5</td>\n",
       "      <td>0</td>\n",
       "      <td>3</td>\n",
       "    </tr>\n",
       "    <tr>\n",
       "      <th>Лена</th>\n",
       "      <td>5</td>\n",
       "      <td>0</td>\n",
       "      <td>3</td>\n",
       "      <td>8</td>\n",
       "      <td>8</td>\n",
       "      <td>0</td>\n",
       "      <td>0</td>\n",
       "      <td>7</td>\n",
       "      <td>0</td>\n",
       "      <td>2</td>\n",
       "      <td>4</td>\n",
       "    </tr>\n",
       "    <tr>\n",
       "      <th>Ваня</th>\n",
       "      <td>8</td>\n",
       "      <td>7</td>\n",
       "      <td>0</td>\n",
       "      <td>6</td>\n",
       "      <td>5</td>\n",
       "      <td>4</td>\n",
       "      <td>0</td>\n",
       "      <td>8</td>\n",
       "      <td>0</td>\n",
       "      <td>10</td>\n",
       "      <td>0</td>\n",
       "    </tr>\n",
       "    <tr>\n",
       "      <th>Ира</th>\n",
       "      <td>0</td>\n",
       "      <td>0</td>\n",
       "      <td>2</td>\n",
       "      <td>5</td>\n",
       "      <td>10</td>\n",
       "      <td>0</td>\n",
       "      <td>0</td>\n",
       "      <td>0</td>\n",
       "      <td>9</td>\n",
       "      <td>0</td>\n",
       "      <td>3</td>\n",
       "    </tr>\n",
       "  </tbody>\n",
       "</table>\n",
       "</div>"
      ],
      "text/plain": [
       "      Терминатор  Робокоп  Рэмбо  Джеймс Бонд  Властелин Колец  Хоббит  \\\n",
       "Вася           9        0      0            6                4       3   \n",
       "Петя           0        0      0            8               10       0   \n",
       "Саша           8        0      5            7                4       0   \n",
       "Женя           5        2      0            4               10       0   \n",
       "Маша           0        0      2            5                7       0   \n",
       "Оля            2        3      0            0                0       7   \n",
       "Лена           5        0      3            8                8       0   \n",
       "Ваня           8        7      0            6                5       4   \n",
       "Ира            0        0      2            5               10       0   \n",
       "\n",
       "      Гарри Поттер  Американский Пирог  Мальчишник в Вегасе  Мстители  \\\n",
       "Вася             5                   7                    8         6   \n",
       "Петя             8                   5                    6         2   \n",
       "Саша             5                   7                    8         8   \n",
       "Женя             9                   5                    0         0   \n",
       "Маша             0                   9                    0         4   \n",
       "Оля              9                   0                    5         0   \n",
       "Лена             0                   7                    0         2   \n",
       "Ваня             0                   8                    0        10   \n",
       "Ира              0                   0                    9         0   \n",
       "\n",
       "      Супермен  \n",
       "Вася         5  \n",
       "Петя         0  \n",
       "Саша         5  \n",
       "Женя         0  \n",
       "Маша         0  \n",
       "Оля          3  \n",
       "Лена         4  \n",
       "Ваня         0  \n",
       "Ира          3  "
      ]
     },
     "execution_count": 6,
     "metadata": {},
     "output_type": "execute_result"
    }
   ],
   "source": [
    "R"
   ]
  },
  {
   "cell_type": "markdown",
   "metadata": {
    "id": "S-ZGN9IP6d8V"
   },
   "source": [
    "Вот теперь и встаёт вопрос, какой предложить фильм, чтобы наш пользователь хорошо провёл вечер? Немного поискав на просторах интернета, находим статью о том, что один большой онлнайн-кинотеатр **Netflix** в 2006 году объявил соревнование по разработке рекомендательной системы фильмов. За решение, которое улучшит качество рекомендаций на 10%, была объявлена награда в 1 млн долларов. В итоге в 2011 году такое решение было получено, а работало оно на основе **SVD** - Singular Value Decomposition."
   ]
  },
  {
   "cell_type": "code",
   "execution_count": 7,
   "metadata": {
    "id": "cpfsdnSW6d8o"
   },
   "outputs": [],
   "source": [
    "def SVD(R,d,step,lambda_reg,n_iters):\n",
    "    #инициализуем наши матрицы для разложения\n",
    "    U = np.zeros((R.shape[0],d))\n",
    "    V = np.zeros((d,R.shape[1]))\n",
    "    #начальные элементы матрица U и V будут средним рейтингом по ненулевым оценкам\n",
    "    mu = R.sum()/(R!=0).sum()\n",
    "    non_zero = (R!=0).sum()\n",
    "    print(\"Non zero : \", non_zero)\n",
    "    U = U + mu\n",
    "    V = V + mu\n",
    "    # Создадим списки, где будут индексы нулевых и ненулевых элементов матрицы R\n",
    "    indx=[]\n",
    "    zero_indx = []\n",
    "    # Инициализируем MSE в начале и будем отслеживать в процессе обучения\n",
    "    MSE_start = 0\n",
    "    MSE=[]\n",
    "    # Найдём индексы нулевых и ненулевых элементов\n",
    "    for i in range(R.shape[0]):\n",
    "        for j in range(R.shape[1]):\n",
    "            if R[i][j]>0:\n",
    "                indx.append([i,j])\n",
    "                MSE_start+=((R[i,j]-np.dot(U[i,:],V[:,j])) ** 2) / non_zero\n",
    "            else:\n",
    "                zero_indx.append([i,j])\n",
    "    # Сделаем градиентный спуск            \n",
    "    for n in range(n_iters):\n",
    "        choice = np.random.randint(0,len(indx))\n",
    "        ij = indx[choice]\n",
    "        for k in range(0,d):\n",
    "            U[ij[0],k] = U[ij[0],k] + step * ((R[ij[0]][ij[1]] - \n",
    "                                               np.dot(U[ij[0],:],V[:,ij[1]])) * V[k,ij[1]] - \n",
    "                                              lambda_reg * U[ij[0],k])\n",
    "            V[k,ij[1]] = V[k,ij[1]] + step * ((R[ij[0]][ij[1]] - \n",
    "                                               np.dot(U[ij[0],:],V[:,ij[1]])) * U[ij[0],k] - \n",
    "                                              lambda_reg * V[k,ij[1]])\n",
    "            \n",
    "        L=0\n",
    "        for i in range(R.shape[0]):\n",
    "            for j in range(R.shape[1]):\n",
    "                if R[i,j]>0:\n",
    "                    L+=((R[i,j]-np.dot(U[i,:],V[:,j])) ** 2)/non_zero\n",
    "        MSE.append(L)    \n",
    "    return U,V, MSE_start, MSE"
   ]
  },
  {
   "cell_type": "code",
   "execution_count": 8,
   "metadata": {
    "colab": {
     "base_uri": "https://localhost:8080/"
    },
    "id": "d5JvIngR6d8p",
    "outputId": "32b6e31b-b1b0-446b-b0b8-2960941d9782"
   },
   "outputs": [
    {
     "name": "stdout",
     "output_type": "stream",
     "text": [
      "Non zero :  60\n"
     ]
    }
   ],
   "source": [
    "A,B,M_1,M_end = SVD(R.values,2,0.01,0.1,3000)"
   ]
  },
  {
   "cell_type": "code",
   "execution_count": 9,
   "metadata": {
    "colab": {
     "base_uri": "https://localhost:8080/"
    },
    "id": "efVVzdSb6d8r",
    "outputId": "83f3a4d9-8467-45e2-dcc4-9a079aa2dec6"
   },
   "outputs": [
    {
     "data": {
      "text/plain": [
       "array([[ 9,  0,  0,  6,  4,  3,  5,  7,  8,  6,  5],\n",
       "       [ 0,  0,  0,  8, 10,  0,  8,  5,  6,  2,  0],\n",
       "       [ 8,  0,  5,  7,  4,  0,  5,  7,  8,  8,  5],\n",
       "       [ 5,  2,  0,  4, 10,  0,  9,  5,  0,  0,  0],\n",
       "       [ 0,  0,  2,  5,  7,  0,  0,  9,  0,  4,  0],\n",
       "       [ 2,  3,  0,  0,  0,  7,  9,  0,  5,  0,  3],\n",
       "       [ 5,  0,  3,  8,  8,  0,  0,  7,  0,  2,  4],\n",
       "       [ 8,  7,  0,  6,  5,  4,  0,  8,  0, 10,  0],\n",
       "       [ 0,  0,  2,  5, 10,  0,  0,  0,  9,  0,  3]])"
      ]
     },
     "execution_count": 9,
     "metadata": {},
     "output_type": "execute_result"
    }
   ],
   "source": [
    "R.values"
   ]
  },
  {
   "cell_type": "code",
   "execution_count": 10,
   "metadata": {
    "colab": {
     "base_uri": "https://localhost:8080/"
    },
    "id": "ZtP8eJi-6d8x",
    "outputId": "6f6fc16b-d2f1-4107-81d9-17dacc8395fb"
   },
   "outputs": [
    {
     "data": {
      "text/plain": [
       "array([[6.17971218, 4.70990807, 4.08514162, 6.23534572, 7.06559497,\n",
       "        4.79048475, 7.12755007, 6.84411095, 7.80324828, 5.6876097 ,\n",
       "        4.81331265],\n",
       "       [5.9396033 , 4.36661935, 3.72008133, 6.10658414, 6.79462963,\n",
       "        4.35248154, 6.80657184, 6.76261091, 7.5599583 , 5.31623117,\n",
       "        4.43836558],\n",
       "       [5.75734655, 4.95826825, 4.54002567, 5.40533886, 6.57000207,\n",
       "        5.35917184, 6.7970928 , 5.72019818, 7.05680666, 5.83393128,\n",
       "        5.15294447],\n",
       "       [4.60621408, 4.00131476, 3.67658132, 4.30021965, 5.25562094,\n",
       "        4.34172196, 5.44752662, 4.53690181, 5.632999  , 4.69977152,\n",
       "        4.16300092],\n",
       "       [5.81950317, 3.17117311, 2.21965327, 6.76714312, 6.68185781,\n",
       "        2.52472847, 6.3647339 , 7.89973152, 7.82084177, 4.16995289,\n",
       "        3.05054764],\n",
       "       [5.11526441, 5.37269246, 5.27899901, 4.11745184, 5.81577977,\n",
       "        6.28162257, 6.30485966, 3.96920381, 5.90828577, 6.09095941,\n",
       "        5.71247754],\n",
       "       [5.18416468, 2.62434245, 1.71907085, 6.17041775, 5.95683335,\n",
       "        1.93384411, 5.61474662, 7.26811573, 7.04198205, 3.52647027,\n",
       "        2.48229041],\n",
       "       [7.08070412, 6.24340862, 5.77081608, 6.54478061, 8.0769188 ,\n",
       "        6.81957079, 8.39940787, 6.86765967, 8.62449496, 7.31136537,\n",
       "        6.50791503],\n",
       "       [6.60470927, 4.28241564, 3.39882325, 7.19628145, 7.56822412,\n",
       "        3.93920312, 7.41127194, 8.17935087, 8.62070469, 5.37375789,\n",
       "        4.2633566 ]])"
      ]
     },
     "execution_count": 10,
     "metadata": {},
     "output_type": "execute_result"
    }
   ],
   "source": [
    "A@B"
   ]
  },
  {
   "cell_type": "code",
   "execution_count": 11,
   "metadata": {
    "colab": {
     "base_uri": "https://localhost:8080/"
    },
    "id": "ozstzXHB6d8y",
    "outputId": "d8b69f0a-9473-4a8b-fdf1-6bdcff697686"
   },
   "outputs": [
    {
     "data": {
      "text/plain": [
       "array([[3.31699191, 4.52799609, 4.76717519, 1.93059352, 3.74802627,\n",
       "        5.71394393, 4.3752607 , 1.37254212, 3.44105107, 4.92928194,\n",
       "        4.92837338],\n",
       "       [3.84156949, 3.31002419, 3.03142353, 3.60553438, 4.38377466,\n",
       "        3.57846102, 4.53578633, 3.81489896, 4.70801801, 3.89420623,\n",
       "        3.44020351]])"
      ]
     },
     "execution_count": 11,
     "metadata": {},
     "output_type": "execute_result"
    }
   ],
   "source": [
    "B"
   ]
  },
  {
   "cell_type": "code",
   "execution_count": 12,
   "metadata": {
    "id": "RU4fIQHO6d8z"
   },
   "outputs": [],
   "source": [
    "r_cap = np.zeros((R.shape[0],R.shape[1]))\n",
    "for i in range(R.shape[0]):\n",
    "    for j in range(R.shape[1]):\n",
    "        r_cap[i,j]=np.dot(A[i,:],B[:,j])"
   ]
  },
  {
   "cell_type": "code",
   "execution_count": 13,
   "metadata": {
    "colab": {
     "base_uri": "https://localhost:8080/",
     "height": 332
    },
    "id": "fjTMbMHd6d9D",
    "outputId": "00aa483e-f9f1-41f7-8392-7566183aabba"
   },
   "outputs": [
    {
     "data": {
      "text/html": [
       "<div>\n",
       "<style scoped>\n",
       "    .dataframe tbody tr th:only-of-type {\n",
       "        vertical-align: middle;\n",
       "    }\n",
       "\n",
       "    .dataframe tbody tr th {\n",
       "        vertical-align: top;\n",
       "    }\n",
       "\n",
       "    .dataframe thead th {\n",
       "        text-align: right;\n",
       "    }\n",
       "</style>\n",
       "<table border=\"1\" class=\"dataframe\">\n",
       "  <thead>\n",
       "    <tr style=\"text-align: right;\">\n",
       "      <th></th>\n",
       "      <th>Терминатор</th>\n",
       "      <th>Робокоп</th>\n",
       "      <th>Рэмбо</th>\n",
       "      <th>Джеймс Бонд</th>\n",
       "      <th>Властелин Колец</th>\n",
       "      <th>Хоббит</th>\n",
       "      <th>Гарри Поттер</th>\n",
       "      <th>Американский Пирог</th>\n",
       "      <th>Мальчишник в Вегасе</th>\n",
       "      <th>Мстители</th>\n",
       "      <th>Супермен</th>\n",
       "    </tr>\n",
       "  </thead>\n",
       "  <tbody>\n",
       "    <tr>\n",
       "      <th>Вася</th>\n",
       "      <td>9</td>\n",
       "      <td>0</td>\n",
       "      <td>0</td>\n",
       "      <td>6</td>\n",
       "      <td>4</td>\n",
       "      <td>3</td>\n",
       "      <td>5</td>\n",
       "      <td>7</td>\n",
       "      <td>8</td>\n",
       "      <td>6</td>\n",
       "      <td>5</td>\n",
       "    </tr>\n",
       "    <tr>\n",
       "      <th>Петя</th>\n",
       "      <td>0</td>\n",
       "      <td>0</td>\n",
       "      <td>0</td>\n",
       "      <td>8</td>\n",
       "      <td>10</td>\n",
       "      <td>0</td>\n",
       "      <td>8</td>\n",
       "      <td>5</td>\n",
       "      <td>6</td>\n",
       "      <td>2</td>\n",
       "      <td>0</td>\n",
       "    </tr>\n",
       "    <tr>\n",
       "      <th>Саша</th>\n",
       "      <td>8</td>\n",
       "      <td>0</td>\n",
       "      <td>5</td>\n",
       "      <td>7</td>\n",
       "      <td>4</td>\n",
       "      <td>0</td>\n",
       "      <td>5</td>\n",
       "      <td>7</td>\n",
       "      <td>8</td>\n",
       "      <td>8</td>\n",
       "      <td>5</td>\n",
       "    </tr>\n",
       "    <tr>\n",
       "      <th>Женя</th>\n",
       "      <td>5</td>\n",
       "      <td>2</td>\n",
       "      <td>0</td>\n",
       "      <td>4</td>\n",
       "      <td>10</td>\n",
       "      <td>0</td>\n",
       "      <td>9</td>\n",
       "      <td>5</td>\n",
       "      <td>0</td>\n",
       "      <td>0</td>\n",
       "      <td>0</td>\n",
       "    </tr>\n",
       "    <tr>\n",
       "      <th>Маша</th>\n",
       "      <td>0</td>\n",
       "      <td>0</td>\n",
       "      <td>2</td>\n",
       "      <td>5</td>\n",
       "      <td>7</td>\n",
       "      <td>0</td>\n",
       "      <td>0</td>\n",
       "      <td>9</td>\n",
       "      <td>0</td>\n",
       "      <td>4</td>\n",
       "      <td>0</td>\n",
       "    </tr>\n",
       "    <tr>\n",
       "      <th>Оля</th>\n",
       "      <td>2</td>\n",
       "      <td>3</td>\n",
       "      <td>0</td>\n",
       "      <td>0</td>\n",
       "      <td>0</td>\n",
       "      <td>7</td>\n",
       "      <td>9</td>\n",
       "      <td>0</td>\n",
       "      <td>5</td>\n",
       "      <td>0</td>\n",
       "      <td>3</td>\n",
       "    </tr>\n",
       "    <tr>\n",
       "      <th>Лена</th>\n",
       "      <td>5</td>\n",
       "      <td>0</td>\n",
       "      <td>3</td>\n",
       "      <td>8</td>\n",
       "      <td>8</td>\n",
       "      <td>0</td>\n",
       "      <td>0</td>\n",
       "      <td>7</td>\n",
       "      <td>0</td>\n",
       "      <td>2</td>\n",
       "      <td>4</td>\n",
       "    </tr>\n",
       "    <tr>\n",
       "      <th>Ваня</th>\n",
       "      <td>8</td>\n",
       "      <td>7</td>\n",
       "      <td>0</td>\n",
       "      <td>6</td>\n",
       "      <td>5</td>\n",
       "      <td>4</td>\n",
       "      <td>0</td>\n",
       "      <td>8</td>\n",
       "      <td>0</td>\n",
       "      <td>10</td>\n",
       "      <td>0</td>\n",
       "    </tr>\n",
       "    <tr>\n",
       "      <th>Ира</th>\n",
       "      <td>0</td>\n",
       "      <td>0</td>\n",
       "      <td>2</td>\n",
       "      <td>5</td>\n",
       "      <td>10</td>\n",
       "      <td>0</td>\n",
       "      <td>0</td>\n",
       "      <td>0</td>\n",
       "      <td>9</td>\n",
       "      <td>0</td>\n",
       "      <td>3</td>\n",
       "    </tr>\n",
       "  </tbody>\n",
       "</table>\n",
       "</div>"
      ],
      "text/plain": [
       "      Терминатор  Робокоп  Рэмбо  Джеймс Бонд  Властелин Колец  Хоббит  \\\n",
       "Вася           9        0      0            6                4       3   \n",
       "Петя           0        0      0            8               10       0   \n",
       "Саша           8        0      5            7                4       0   \n",
       "Женя           5        2      0            4               10       0   \n",
       "Маша           0        0      2            5                7       0   \n",
       "Оля            2        3      0            0                0       7   \n",
       "Лена           5        0      3            8                8       0   \n",
       "Ваня           8        7      0            6                5       4   \n",
       "Ира            0        0      2            5               10       0   \n",
       "\n",
       "      Гарри Поттер  Американский Пирог  Мальчишник в Вегасе  Мстители  \\\n",
       "Вася             5                   7                    8         6   \n",
       "Петя             8                   5                    6         2   \n",
       "Саша             5                   7                    8         8   \n",
       "Женя             9                   5                    0         0   \n",
       "Маша             0                   9                    0         4   \n",
       "Оля              9                   0                    5         0   \n",
       "Лена             0                   7                    0         2   \n",
       "Ваня             0                   8                    0        10   \n",
       "Ира              0                   0                    9         0   \n",
       "\n",
       "      Супермен  \n",
       "Вася         5  \n",
       "Петя         0  \n",
       "Саша         5  \n",
       "Женя         0  \n",
       "Маша         0  \n",
       "Оля          3  \n",
       "Лена         4  \n",
       "Ваня         0  \n",
       "Ира          3  "
      ]
     },
     "execution_count": 13,
     "metadata": {},
     "output_type": "execute_result"
    }
   ],
   "source": [
    "R"
   ]
  },
  {
   "cell_type": "code",
   "execution_count": 14,
   "metadata": {
    "id": "0qYzts1t6d9P"
   },
   "outputs": [],
   "source": [
    "R_cap = pd.DataFrame(r_cap,u,f)"
   ]
  },
  {
   "cell_type": "code",
   "execution_count": 15,
   "metadata": {
    "colab": {
     "base_uri": "https://localhost:8080/",
     "height": 332
    },
    "id": "vlTwxi-66d9Q",
    "outputId": "6918e018-7f7b-4d6b-a164-6112e3762db7"
   },
   "outputs": [
    {
     "data": {
      "text/html": [
       "<div>\n",
       "<style scoped>\n",
       "    .dataframe tbody tr th:only-of-type {\n",
       "        vertical-align: middle;\n",
       "    }\n",
       "\n",
       "    .dataframe tbody tr th {\n",
       "        vertical-align: top;\n",
       "    }\n",
       "\n",
       "    .dataframe thead th {\n",
       "        text-align: right;\n",
       "    }\n",
       "</style>\n",
       "<table border=\"1\" class=\"dataframe\">\n",
       "  <thead>\n",
       "    <tr style=\"text-align: right;\">\n",
       "      <th></th>\n",
       "      <th>Терминатор</th>\n",
       "      <th>Робокоп</th>\n",
       "      <th>Рэмбо</th>\n",
       "      <th>Джеймс Бонд</th>\n",
       "      <th>Властелин Колец</th>\n",
       "      <th>Хоббит</th>\n",
       "      <th>Гарри Поттер</th>\n",
       "      <th>Американский Пирог</th>\n",
       "      <th>Мальчишник в Вегасе</th>\n",
       "      <th>Мстители</th>\n",
       "      <th>Супермен</th>\n",
       "    </tr>\n",
       "  </thead>\n",
       "  <tbody>\n",
       "    <tr>\n",
       "      <th>Вася</th>\n",
       "      <td>6.179712</td>\n",
       "      <td>4.709908</td>\n",
       "      <td>4.085142</td>\n",
       "      <td>6.235346</td>\n",
       "      <td>7.065595</td>\n",
       "      <td>4.790485</td>\n",
       "      <td>7.127550</td>\n",
       "      <td>6.844111</td>\n",
       "      <td>7.803248</td>\n",
       "      <td>5.687610</td>\n",
       "      <td>4.813313</td>\n",
       "    </tr>\n",
       "    <tr>\n",
       "      <th>Петя</th>\n",
       "      <td>5.939603</td>\n",
       "      <td>4.366619</td>\n",
       "      <td>3.720081</td>\n",
       "      <td>6.106584</td>\n",
       "      <td>6.794630</td>\n",
       "      <td>4.352482</td>\n",
       "      <td>6.806572</td>\n",
       "      <td>6.762611</td>\n",
       "      <td>7.559958</td>\n",
       "      <td>5.316231</td>\n",
       "      <td>4.438366</td>\n",
       "    </tr>\n",
       "    <tr>\n",
       "      <th>Саша</th>\n",
       "      <td>5.757347</td>\n",
       "      <td>4.958268</td>\n",
       "      <td>4.540026</td>\n",
       "      <td>5.405339</td>\n",
       "      <td>6.570002</td>\n",
       "      <td>5.359172</td>\n",
       "      <td>6.797093</td>\n",
       "      <td>5.720198</td>\n",
       "      <td>7.056807</td>\n",
       "      <td>5.833931</td>\n",
       "      <td>5.152944</td>\n",
       "    </tr>\n",
       "    <tr>\n",
       "      <th>Женя</th>\n",
       "      <td>4.606214</td>\n",
       "      <td>4.001315</td>\n",
       "      <td>3.676581</td>\n",
       "      <td>4.300220</td>\n",
       "      <td>5.255621</td>\n",
       "      <td>4.341722</td>\n",
       "      <td>5.447527</td>\n",
       "      <td>4.536902</td>\n",
       "      <td>5.632999</td>\n",
       "      <td>4.699772</td>\n",
       "      <td>4.163001</td>\n",
       "    </tr>\n",
       "    <tr>\n",
       "      <th>Маша</th>\n",
       "      <td>5.819503</td>\n",
       "      <td>3.171173</td>\n",
       "      <td>2.219653</td>\n",
       "      <td>6.767143</td>\n",
       "      <td>6.681858</td>\n",
       "      <td>2.524728</td>\n",
       "      <td>6.364734</td>\n",
       "      <td>7.899732</td>\n",
       "      <td>7.820842</td>\n",
       "      <td>4.169953</td>\n",
       "      <td>3.050548</td>\n",
       "    </tr>\n",
       "    <tr>\n",
       "      <th>Оля</th>\n",
       "      <td>5.115264</td>\n",
       "      <td>5.372692</td>\n",
       "      <td>5.278999</td>\n",
       "      <td>4.117452</td>\n",
       "      <td>5.815780</td>\n",
       "      <td>6.281623</td>\n",
       "      <td>6.304860</td>\n",
       "      <td>3.969204</td>\n",
       "      <td>5.908286</td>\n",
       "      <td>6.090959</td>\n",
       "      <td>5.712478</td>\n",
       "    </tr>\n",
       "    <tr>\n",
       "      <th>Лена</th>\n",
       "      <td>5.184165</td>\n",
       "      <td>2.624342</td>\n",
       "      <td>1.719071</td>\n",
       "      <td>6.170418</td>\n",
       "      <td>5.956833</td>\n",
       "      <td>1.933844</td>\n",
       "      <td>5.614747</td>\n",
       "      <td>7.268116</td>\n",
       "      <td>7.041982</td>\n",
       "      <td>3.526470</td>\n",
       "      <td>2.482290</td>\n",
       "    </tr>\n",
       "    <tr>\n",
       "      <th>Ваня</th>\n",
       "      <td>7.080704</td>\n",
       "      <td>6.243409</td>\n",
       "      <td>5.770816</td>\n",
       "      <td>6.544781</td>\n",
       "      <td>8.076919</td>\n",
       "      <td>6.819571</td>\n",
       "      <td>8.399408</td>\n",
       "      <td>6.867660</td>\n",
       "      <td>8.624495</td>\n",
       "      <td>7.311365</td>\n",
       "      <td>6.507915</td>\n",
       "    </tr>\n",
       "    <tr>\n",
       "      <th>Ира</th>\n",
       "      <td>6.604709</td>\n",
       "      <td>4.282416</td>\n",
       "      <td>3.398823</td>\n",
       "      <td>7.196281</td>\n",
       "      <td>7.568224</td>\n",
       "      <td>3.939203</td>\n",
       "      <td>7.411272</td>\n",
       "      <td>8.179351</td>\n",
       "      <td>8.620705</td>\n",
       "      <td>5.373758</td>\n",
       "      <td>4.263357</td>\n",
       "    </tr>\n",
       "  </tbody>\n",
       "</table>\n",
       "</div>"
      ],
      "text/plain": [
       "      Терминатор   Робокоп     Рэмбо  Джеймс Бонд  Властелин Колец    Хоббит  \\\n",
       "Вася    6.179712  4.709908  4.085142     6.235346         7.065595  4.790485   \n",
       "Петя    5.939603  4.366619  3.720081     6.106584         6.794630  4.352482   \n",
       "Саша    5.757347  4.958268  4.540026     5.405339         6.570002  5.359172   \n",
       "Женя    4.606214  4.001315  3.676581     4.300220         5.255621  4.341722   \n",
       "Маша    5.819503  3.171173  2.219653     6.767143         6.681858  2.524728   \n",
       "Оля     5.115264  5.372692  5.278999     4.117452         5.815780  6.281623   \n",
       "Лена    5.184165  2.624342  1.719071     6.170418         5.956833  1.933844   \n",
       "Ваня    7.080704  6.243409  5.770816     6.544781         8.076919  6.819571   \n",
       "Ира     6.604709  4.282416  3.398823     7.196281         7.568224  3.939203   \n",
       "\n",
       "      Гарри Поттер  Американский Пирог  Мальчишник в Вегасе  Мстители  \\\n",
       "Вася      7.127550            6.844111             7.803248  5.687610   \n",
       "Петя      6.806572            6.762611             7.559958  5.316231   \n",
       "Саша      6.797093            5.720198             7.056807  5.833931   \n",
       "Женя      5.447527            4.536902             5.632999  4.699772   \n",
       "Маша      6.364734            7.899732             7.820842  4.169953   \n",
       "Оля       6.304860            3.969204             5.908286  6.090959   \n",
       "Лена      5.614747            7.268116             7.041982  3.526470   \n",
       "Ваня      8.399408            6.867660             8.624495  7.311365   \n",
       "Ира       7.411272            8.179351             8.620705  5.373758   \n",
       "\n",
       "      Супермен  \n",
       "Вася  4.813313  \n",
       "Петя  4.438366  \n",
       "Саша  5.152944  \n",
       "Женя  4.163001  \n",
       "Маша  3.050548  \n",
       "Оля   5.712478  \n",
       "Лена  2.482290  \n",
       "Ваня  6.507915  \n",
       "Ира   4.263357  "
      ]
     },
     "execution_count": 15,
     "metadata": {},
     "output_type": "execute_result"
    }
   ],
   "source": [
    "R_cap"
   ]
  },
  {
   "cell_type": "code",
   "execution_count": 16,
   "metadata": {
    "colab": {
     "base_uri": "https://localhost:8080/"
    },
    "id": "hvhJbs8t6d9d",
    "outputId": "c8e0e47a-7d07-497c-91c0-1b06c0501a54"
   },
   "outputs": [
    {
     "name": "stdout",
     "output_type": "stream",
     "text": [
      "Start MSE: 4065.7950666666675 Finish MSE: 3.5566485815480497\n"
     ]
    }
   ],
   "source": [
    "print ('Start MSE:',M_1,'Finish MSE:',M_end[-1])"
   ]
  },
  {
   "cell_type": "code",
   "execution_count": 17,
   "metadata": {
    "colab": {
     "base_uri": "https://localhost:8080/"
    },
    "id": "Zf4Glrlz6d9e",
    "outputId": "3bbebbe6-347d-4a6a-829e-f8ab31ad7586"
   },
   "outputs": [
    {
     "name": "stdout",
     "output_type": "stream",
     "text": [
      "Start RMSE 63.76358731020917 Finish RMSE 1.885907893177196\n"
     ]
    }
   ],
   "source": [
    "print ('Start RMSE',np.sqrt(M_1),'Finish RMSE',np.sqrt(M_end[-1]))"
   ]
  },
  {
   "cell_type": "code",
   "execution_count": 18,
   "metadata": {
    "id": "TfkKD8JI6d9f"
   },
   "outputs": [],
   "source": [
    "n = (R.values != 0).sum()"
   ]
  },
  {
   "cell_type": "code",
   "execution_count": 19,
   "metadata": {
    "id": "2AijkLgs6d9p"
   },
   "outputs": [],
   "source": [
    "L=0\n",
    "for i in range(R.shape[0]):\n",
    "    for j in range(R.shape[1]):\n",
    "        if R.values[i,j]>0:\n",
    "            L+=((R.values[i,j]-R_cap.values[i,j]) ** 2)/n"
   ]
  },
  {
   "cell_type": "code",
   "execution_count": 20,
   "metadata": {
    "colab": {
     "base_uri": "https://localhost:8080/"
    },
    "id": "sT4ZQF-06d9s",
    "outputId": "d964e2a0-2798-4b55-a4a0-a944e7b52518"
   },
   "outputs": [
    {
     "data": {
      "text/plain": [
       "60"
      ]
     },
     "execution_count": 20,
     "metadata": {},
     "output_type": "execute_result"
    }
   ],
   "source": [
    "n"
   ]
  },
  {
   "cell_type": "markdown",
   "metadata": {
    "id": "4ZYopoSg6d9t"
   },
   "source": [
    "В итоге получили матрицу оценок с помощью SGD. Как видно, MSE сильно упал. Можно поиграться с параметрами, чтобы настроить качество. Как итог, выбираем фильмы с наибольшей оценкой и рекомендуем их пользователям! :) "
   ]
  },
  {
   "cell_type": "markdown",
   "metadata": {
    "id": "DYK7SqCR6d9t"
   },
   "source": [
    "Как подбирать d?"
   ]
  },
  {
   "cell_type": "markdown",
   "metadata": {
    "id": "0JIl9AFu6d9u"
   },
   "source": [
    "есть хорошая библиотека Surprise, где можно делать рекомендации проще, быстрее и различными способами.\n",
    "Оставлю ссылку для ознакомления http://surpriselib.com/"
   ]
  },
  {
   "cell_type": "markdown",
   "metadata": {
    "id": "2LuAhsRsleQC"
   },
   "source": [
    "В итоге получили матрицу оценок с помощью SGD. Как видно, MSE сильно упал. Можно поиграться с параметрами, чтобы настроить качество. Как итог, выбираем фильмы с наибольшей оценкой и рекомендуем их пользователям! :) "
   ]
  },
  {
   "cell_type": "markdown",
   "metadata": {
    "id": "6u_SV-pilhpL"
   },
   "source": []
  },
  {
   "cell_type": "markdown",
   "metadata": {
    "id": "-FZgJK-Ulh08"
   },
   "source": [
    "на этих же игрушечных данных:\n",
    "\n",
    "    1. Разобраться и применить truncated SVD из sklearn.decomposition\n",
    "    2. Разобраться и применить SVD из surprise.\n",
    "    3. Разобраться и применить svds из scipy.sparse\n",
    "\n",
    "Сравнить результаты. Какие различия у этих алгоритмов? Как изменилась метрика? Почему? "
   ]
  },
  {
   "cell_type": "code",
   "execution_count": null,
   "metadata": {
    "id": "7Qr2ZEX56d9u"
   },
   "outputs": [],
   "source": []
  },
  {
   "cell_type": "code",
   "execution_count": 21,
   "metadata": {
    "id": "qZgFTVPg6d9v"
   },
   "outputs": [],
   "source": [
    "from sklearn.decomposition import TruncatedSVD\n",
    "from scipy.linalg import svd as SVD\n",
    "from scipy.sparse.linalg import svds\n",
    "import scipy.sparse as sparse\n",
    "from surprise import SVD as SSVD\n",
    "from surprise import Reader\n",
    "from surprise import Dataset\n",
    "from surprise import accuracy"
   ]
  },
  {
   "cell_type": "markdown",
   "metadata": {
    "id": "zWtf2wpKLh2l"
   },
   "source": [
    "1) Truncated SVD"
   ]
  },
  {
   "cell_type": "code",
   "execution_count": 22,
   "metadata": {
    "id": "6mwOzGcz7DKU"
   },
   "outputs": [],
   "source": [
    "#check of correctness of truncated svd\n",
    "for N in range(1, min(R.shape)):\n",
    "    tsvd = TruncatedSVD(N)\n",
    "    tR = tsvd.fit_transform(R)\n",
    "    tE = tsvd.singular_values_\n",
    "    tV = tsvd.components_\n",
    "    tU = tR.dot(np.linalg.inv(np.diag(tsvd.singular_values_)))\n",
    "    U, E, V = SVD(R, full_matrices=False)\n",
    "    U = U[:, :-(U.shape[1] - N)]\n",
    "    E = E[:-(E.size - N)]\n",
    "    V = V[:-(V.shape[0] - N), :]\n",
    "    assert(np.allclose(U @ np.diag(E) @ V, tU @ np.diag(tE) @ tV))"
   ]
  },
  {
   "cell_type": "code",
   "execution_count": 23,
   "metadata": {
    "id": "TNpCclkh-ZbQ"
   },
   "outputs": [],
   "source": [
    "RMSEs = []\n",
    "for N in range(1, min(R.shape)):\n",
    "    non_zero = (R != 0).sum().sum()\n",
    "    tsvd = TruncatedSVD(N)\n",
    "    tR = tsvd.fit_transform(R)\n",
    "    E = tsvd.singular_values_\n",
    "    V = tsvd.components_\n",
    "    U = tR.dot(np.linalg.inv(np.diag(tsvd.singular_values_)))\n",
    "    L=0\n",
    "    for i in range(R.shape[0]):\n",
    "        for j in range(R.shape[1]):\n",
    "            if R.iloc[i][j]>0:\n",
    "                L+=np.sqrt(((R.iloc[i,j]-np.dot(U[i,:],V[:,j])) ** 2)) / non_zero\n",
    "    RMSEs.append(L)"
   ]
  },
  {
   "cell_type": "code",
   "execution_count": 24,
   "metadata": {
    "colab": {
     "base_uri": "https://localhost:8080/",
     "height": 389
    },
    "id": "Aa3jDsrfCaE6",
    "outputId": "d926baed-b68c-4cc9-b98d-9d5410ceffda"
   },
   "outputs": [
    {
     "data": {
      "image/png": "[encoded data removed]",
      "text/plain": [
       "<Figure size 720x432 with 1 Axes>"
      ]
     },
     "metadata": {
      "needs_background": "light"
     },
     "output_type": "display_data"
    }
   ],
   "source": [
    "fig = plt.figure(figsize=(10, 6))\n",
    "ax = fig.add_subplot(111)\n",
    "ax.plot(range(1, min(R.shape)), RMSEs)\n",
    "ax.set_xlabel(\"Matrix rank\")\n",
    "ax.set_ylabel(\"MSE\")\n",
    "ax.grid()"
   ]
  },
  {
   "cell_type": "markdown",
   "metadata": {
    "id": "VrXMoB8dLprG"
   },
   "source": [
    "2) Surprise SVD"
   ]
  },
  {
   "cell_type": "code",
   "execution_count": 25,
   "metadata": {
    "id": "Pcr4B618LnlZ"
   },
   "outputs": [],
   "source": [
    "k_factors = 8\n",
    "algo = SSVD(n_factors= k_factors, n_epochs= 5, biased= True, lr_all= 0.005, reg_all= 0, init_mean= 0, init_std_dev= 0.01)"
   ]
  },
  {
   "cell_type": "code",
   "execution_count": 26,
   "metadata": {
    "id": "xi0U-_m0MfuW"
   },
   "outputs": [],
   "source": [
    "user_id = []\n",
    "item_id = []\n",
    "rating = []\n",
    "for i in range(R.shape[0]):\n",
    "    for j in range(R.shape[1]):\n",
    "        if R.iloc[i, j] != 0:\n",
    "            user_id.append(i)\n",
    "            item_id.append(j)\n",
    "            rating.append(R.iloc[i, j])\n",
    "df = pd.DataFrame({\n",
    "    'user_id': user_id,\n",
    "    'item_id': item_id,\n",
    "    'rating': rating\n",
    "})"
   ]
  },
  {
   "cell_type": "code",
   "execution_count": 27,
   "metadata": {
    "id": "ze1H7u4fOAnx"
   },
   "outputs": [],
   "source": [
    "reader = Reader(rating_scale = (1, 10))\n",
    "data = Dataset.load_from_df(df, reader)\n",
    "train_data = data.build_full_trainset()"
   ]
  },
  {
   "cell_type": "code",
   "execution_count": 28,
   "metadata": {
    "colab": {
     "base_uri": "https://localhost:8080/"
    },
    "id": "WFhGkX_zQOfC",
    "outputId": "5f2d6e61-e724-4c87-bb9b-b4415a1e91a9"
   },
   "outputs": [
    {
     "data": {
      "text/plain": [
       "<surprise.prediction_algorithms.matrix_factorization.SVD at 0x1a7d0ed0790>"
      ]
     },
     "execution_count": 28,
     "metadata": {},
     "output_type": "execute_result"
    }
   ],
   "source": [
    "algo.fit(train_data)"
   ]
  },
  {
   "cell_type": "code",
   "execution_count": 29,
   "metadata": {
    "colab": {
     "base_uri": "https://localhost:8080/"
    },
    "id": "9OOEBk3iQpLR",
    "outputId": "e67fb1f3-0a13-4587-c104-c8b663d5d5ca"
   },
   "outputs": [
    {
     "name": "stdout",
     "output_type": "stream",
     "text": [
      "RMSE: 2.2520\n"
     ]
    },
    {
     "data": {
      "text/plain": [
       "2.2519911183297583"
      ]
     },
     "execution_count": 29,
     "metadata": {},
     "output_type": "execute_result"
    }
   ],
   "source": [
    "data_trainset = train_data.build_testset()\n",
    "train_pred = algo.test(data_trainset)\n",
    "accuracy.rmse(train_pred)"
   ]
  },
  {
   "cell_type": "markdown",
   "metadata": {
    "id": "y9AeWi12j_jR"
   },
   "source": [
    "3) SVDS"
   ]
  },
  {
   "cell_type": "code",
   "execution_count": 30,
   "metadata": {
    "id": "EPvvNGqWkFOc"
   },
   "outputs": [],
   "source": [
    "new_r = sparse.coo_matrix(R)\n",
    "RMSEs = []\n",
    "for N in range(1, min(R.shape)):\n",
    "    non_zero = (R != 0).sum().sum()\n",
    "    U, E, V = svds(new_r.asfptype(), N)\n",
    "    L=0\n",
    "    for i in range(R.shape[0]):\n",
    "        for j in range(R.shape[1]):\n",
    "            if R.iloc[i][j]>0:\n",
    "                L+=np.sqrt(((R.iloc[i,j]-np.dot(U[i,:],V[:,j])) ** 2)) / non_zero\n",
    "    RMSEs.append(L)"
   ]
  },
  {
   "cell_type": "code",
   "execution_count": 31,
   "metadata": {
    "colab": {
     "base_uri": "https://localhost:8080/",
     "height": 389
    },
    "id": "_Y3nd68NlBhr",
    "outputId": "25dba172-0f08-4521-cd88-869ec457f71d"
   },
   "outputs": [
    {
     "data": {
      "image/png": "[encoded data removed]",
      "text/plain": [
       "<Figure size 720x432 with 1 Axes>"
      ]
     },
     "metadata": {
      "needs_background": "light"
     },
     "output_type": "display_data"
    }
   ],
   "source": [
    "fig = plt.figure(figsize=(10, 6))\n",
    "ax = fig.add_subplot(111)\n",
    "ax.plot(range(1, min(R.shape)), RMSEs)\n",
    "ax.set_xlabel(\"Matrix rank\")\n",
    "ax.set_ylabel(\"MSE\")\n",
    "ax.grid()"
   ]
  },
  {
   "cell_type": "code",
   "execution_count": null,
   "metadata": {
    "id": "abg4M-FslJ7b"
   },
   "outputs": [],
   "source": []
  },
  {
   "cell_type": "code",
   "execution_count": null,
   "metadata": {},
   "outputs": [],
   "source": []
  },
  {
   "cell_type": "markdown",
   "metadata": {},
   "source": [
    "Т.к. truncated svd является оберткой на svds, то результаты этих методов идентичны. Surprise svd показал лучший результат, т.к. анализирует скрытые переменные."
   ]
  },
  {
   "cell_type": "code",
   "execution_count": null,
   "metadata": {},
   "outputs": [],
   "source": []
  }
 ],
 "metadata": {
  "colab": {
   "collapsed_sections": [],
   "provenance": []
  },
  "kernelspec": {
   "display_name": "Python 3 (ipykernel)",
   "language": "python",
   "name": "python3"
  },
  "language_info": {
   "codemirror_mode": {
    "name": "ipython",
    "version": 3
   },
   "file_extension": ".py",
   "mimetype": "text/x-python",
   "name": "python",
   "nbconvert_exporter": "python",
   "pygments_lexer": "ipython3",
   "version": "3.10.7"
  }
 },
 "nbformat": 4,
 "nbformat_minor": 4
}
